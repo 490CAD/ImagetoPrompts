{
 "cells": [
  {
   "cell_type": "markdown",
   "id": "2aa6799f",
   "metadata": {
    "papermill": {
     "duration": 0.014153,
     "end_time": "2023-05-04T09:16:41.777722",
     "exception": false,
     "start_time": "2023-05-04T09:16:41.763569",
     "status": "completed"
    },
    "tags": []
   },
   "source": [
    "## About this notebook\n",
    "This notebook ensembles the CLIP Interrogator, OFA model and ViT model."
   ]
  },
  {
   "cell_type": "code",
   "execution_count": 1,
   "id": "4a4f39db",
   "metadata": {
    "execution": {
     "iopub.execute_input": "2023-05-04T09:16:41.806630Z",
     "iopub.status.busy": "2023-05-04T09:16:41.805731Z",
     "iopub.status.idle": "2023-05-04T09:16:41.816088Z",
     "shell.execute_reply": "2023-05-04T09:16:41.815267Z"
    },
    "papermill": {
     "duration": 0.027796,
     "end_time": "2023-05-04T09:16:41.818104",
     "exception": false,
     "start_time": "2023-05-04T09:16:41.790308",
     "status": "completed"
    },
    "tags": []
   },
   "outputs": [],
   "source": [
    "ratio_ViT_B_16          = 0.26\n",
    "ratio_CLIP_Interrogator = 0.15\n",
    "ratio_OFA               = 0.09"
   ]
  },
  {
   "cell_type": "markdown",
   "id": "f27da4d0",
   "metadata": {
    "papermill": {
     "duration": 0.012331,
     "end_time": "2023-05-04T09:16:41.843058",
     "exception": false,
     "start_time": "2023-05-04T09:16:41.830727",
     "status": "completed"
    },
    "tags": []
   },
   "source": [
    "#### <a id=\"top\"></a>\n",
    "# <div style=\"box-shadow: rgb(60, 121, 245) 0px 0px 0px 3px inset, rgb(255, 255, 255) 10px -10px 0px -3px, rgb(31, 193, 27) 10px -10px, rgb(255, 255, 255) 20px -20px 0px -3px, rgb(255, 217, 19) 20px -20px, rgb(255, 255, 255) 30px -30px 0px -3px, rgb(255, 156, 85) 30px -30px, rgb(255, 255, 255) 40px -40px 0px -3px, rgb(255, 85, 85) 40px -40px; padding:20px; margin-right: 40px; font-size:30px; font-family: consolas; text-align:center; display:fill; border-radius:15px; color:rgb(60, 121, 245);\"><b> OFA </b></div>\n",
    "\n",
    "[Original notebook](https://www.kaggle.com/code/mayukh18/ofa-transformer-lb-0-42644)"
   ]
  },
  {
   "cell_type": "code",
   "execution_count": 2,
   "id": "8c62e172",
   "metadata": {
    "execution": {
     "iopub.execute_input": "2023-05-04T09:16:41.869449Z",
     "iopub.status.busy": "2023-05-04T09:16:41.868696Z",
     "iopub.status.idle": "2023-05-04T09:17:17.867475Z",
     "shell.execute_reply": "2023-05-04T09:17:17.866358Z"
    },
    "papermill": {
     "duration": 36.014425,
     "end_time": "2023-05-04T09:17:17.869927",
     "exception": false,
     "start_time": "2023-05-04T09:16:41.855502",
     "status": "completed"
    },
    "tags": []
   },
   "outputs": [
    {
     "name": "stdout",
     "output_type": "stream",
     "text": [
      "\u001b[33mWARNING: Running pip as the 'root' user can result in broken permissions and conflicting behaviour with the system package manager. It is recommended to use a virtual environment instead: https://pip.pypa.io/warnings/venv\u001b[0m\u001b[33m\r\n",
      "\u001b[0m\u001b[33mWARNING: There was an error checking the latest version of pip.\u001b[0m\u001b[33m\r\n",
      "\u001b[0m"
     ]
    }
   ],
   "source": [
    "# Using the pre compiled wheel since we don't have internet on submission\n",
    "!pip install -q /kaggle/input/stable-diffusion-data/transformers-4.18.0.dev0-py3-none-any.whl"
   ]
  },
  {
   "cell_type": "code",
   "execution_count": 3,
   "id": "36e6f6e5",
   "metadata": {
    "execution": {
     "iopub.execute_input": "2023-05-04T09:17:17.898613Z",
     "iopub.status.busy": "2023-05-04T09:17:17.897097Z",
     "iopub.status.idle": "2023-05-04T09:17:19.997402Z",
     "shell.execute_reply": "2023-05-04T09:17:19.996349Z"
    },
    "papermill": {
     "duration": 2.116969,
     "end_time": "2023-05-04T09:17:20.000132",
     "exception": false,
     "start_time": "2023-05-04T09:17:17.883163",
     "status": "completed"
    },
    "tags": []
   },
   "outputs": [],
   "source": [
    "import os\n",
    "import sys\n",
    "import glob\n",
    "from pathlib import Path\n",
    "\n",
    "import numpy as np\n",
    "import pandas as pd\n",
    "import matplotlib.pyplot as plt\n",
    "\n",
    "from PIL import Image\n",
    "import torch\n",
    "from torch.utils.data import Dataset\n",
    "from torchvision import transforms\n",
    "from transformers import OFATokenizer, OFAModel\n",
    "from transformers.models.ofa.generate import sequence_generator\n",
    "\n",
    "import gc"
   ]
  },
  {
   "cell_type": "code",
   "execution_count": 4,
   "id": "1e1f41a5",
   "metadata": {
    "execution": {
     "iopub.execute_input": "2023-05-04T09:17:20.027844Z",
     "iopub.status.busy": "2023-05-04T09:17:20.027312Z",
     "iopub.status.idle": "2023-05-04T09:17:20.031976Z",
     "shell.execute_reply": "2023-05-04T09:17:20.031046Z"
    },
    "papermill": {
     "duration": 0.020865,
     "end_time": "2023-05-04T09:17:20.033998",
     "exception": false,
     "start_time": "2023-05-04T09:17:20.013133",
     "status": "completed"
    },
    "tags": []
   },
   "outputs": [],
   "source": [
    "CKPT_DIR = \"/kaggle/input/stable-diffusion-data/OFA-large-caption/\"\n",
    "IMAGE_DIR = \"/kaggle/input/stable-diffusion-image-to-prompts/images\"\n",
    "\n",
    "BATCH_SIZE = 24"
   ]
  },
  {
   "cell_type": "markdown",
   "id": "68e50e24",
   "metadata": {
    "papermill": {
     "duration": 0.012283,
     "end_time": "2023-05-04T09:17:20.059131",
     "exception": false,
     "start_time": "2023-05-04T09:17:20.046848",
     "status": "completed"
    },
    "tags": []
   },
   "source": [
    "# Loading the pretrained OFA model"
   ]
  },
  {
   "cell_type": "code",
   "execution_count": 5,
   "id": "45befa14",
   "metadata": {
    "execution": {
     "iopub.execute_input": "2023-05-04T09:17:20.085196Z",
     "iopub.status.busy": "2023-05-04T09:17:20.084923Z",
     "iopub.status.idle": "2023-05-04T09:17:49.538812Z",
     "shell.execute_reply": "2023-05-04T09:17:49.537804Z"
    },
    "papermill": {
     "duration": 29.469698,
     "end_time": "2023-05-04T09:17:49.541256",
     "exception": false,
     "start_time": "2023-05-04T09:17:20.071558",
     "status": "completed"
    },
    "tags": []
   },
   "outputs": [
    {
     "name": "stderr",
     "output_type": "stream",
     "text": [
      "/opt/conda/lib/python3.7/site-packages/ipykernel_launcher.py:5: DeprecationWarning: BICUBIC is deprecated and will be removed in Pillow 10 (2023-07-01). Use Resampling.BICUBIC instead.\n",
      "  \"\"\"\n",
      "/opt/conda/lib/python3.7/site-packages/torchvision/transforms/transforms.py:333: UserWarning: Argument interpolation should be of type InterpolationMode instead of int. Please, use InterpolationMode enum.\n",
      "  \"Argument interpolation should be of type InterpolationMode instead of int. \"\n"
     ]
    },
    {
     "name": "stdout",
     "output_type": "stream",
     "text": [
      "/kaggle/input/stable-diffusion-data/OFA-large-caption/\n",
      "<super: <class 'OFATokenizer'>, <OFATokenizer object>>\n"
     ]
    },
    {
     "name": "stderr",
     "output_type": "stream",
     "text": [
      "/opt/conda/lib/python3.7/site-packages/torch/functional.py:568: UserWarning: torch.meshgrid: in an upcoming release, it will be required to pass the indexing argument. (Triggered internally at  /usr/local/src/pytorch/aten/src/ATen/native/TensorShape.cpp:2227.)\n",
      "  return _VF.meshgrid(tensors, **kwargs)  # type: ignore[attr-defined]\n"
     ]
    }
   ],
   "source": [
    "mean, std = [0.5, 0.5, 0.5], [0.5, 0.5, 0.5]\n",
    "resolution = 480\n",
    "patch_resize_transform = transforms.Compose([\n",
    "        lambda image: image.convert(\"RGB\"),\n",
    "        transforms.Resize((resolution, resolution), interpolation=Image.BICUBIC),\n",
    "        transforms.ToTensor(), \n",
    "        transforms.Normalize(mean=mean, std=std)\n",
    "    ])\n",
    "\n",
    "tokenizer = OFATokenizer.from_pretrained(CKPT_DIR)\n",
    "model = OFAModel.from_pretrained(CKPT_DIR, use_cache=False).cuda()\n",
    "txt = \" what does the image describe?\"\n",
    "inputs = tokenizer([txt], return_tensors=\"pt\").input_ids"
   ]
  },
  {
   "cell_type": "markdown",
   "id": "65dac776",
   "metadata": {
    "papermill": {
     "duration": 0.013085,
     "end_time": "2023-05-04T09:17:49.568210",
     "exception": false,
     "start_time": "2023-05-04T09:17:49.555125",
     "status": "completed"
    },
    "tags": []
   },
   "source": [
    "# Model EDA"
   ]
  },
  {
   "cell_type": "code",
   "execution_count": 6,
   "id": "7fdecb7c",
   "metadata": {
    "execution": {
     "iopub.execute_input": "2023-05-04T09:17:49.595308Z",
     "iopub.status.busy": "2023-05-04T09:17:49.595002Z",
     "iopub.status.idle": "2023-05-04T09:17:49.599490Z",
     "shell.execute_reply": "2023-05-04T09:17:49.598495Z"
    },
    "papermill": {
     "duration": 0.020528,
     "end_time": "2023-05-04T09:17:49.601571",
     "exception": false,
     "start_time": "2023-05-04T09:17:49.581043",
     "status": "completed"
    },
    "tags": []
   },
   "outputs": [],
   "source": [
    "# sample_images = glob.glob(\"/kaggle/input/stable-diffusion-image-to-prompts/images/*\")[:7]\n",
    "# fig, ax = plt.subplots(7,1, figsize=(4,35))\n",
    "\n",
    "# for i,impath in enumerate(sample_images):\n",
    "#     image = Image.open(impath)\n",
    "#     image_t = patch_resize_transform(image).cuda().unsqueeze(0)\n",
    "#     out = model.generate(inputs.cuda(), patch_images=image_t.cuda(), num_beams=5, no_repeat_ngram_size=2)\n",
    "#     out_captions = tokenizer.batch_decode(out, skip_special_tokens=True)\n",
    "#     ax[i].imshow(image)\n",
    "#     ax[i].text(1.1, .5, out_captions[0], horizontalalignment='left', verticalalignment='center', transform=ax[i].transAxes)"
   ]
  },
  {
   "cell_type": "markdown",
   "id": "a68d164d",
   "metadata": {
    "papermill": {
     "duration": 0.012648,
     "end_time": "2023-05-04T09:17:49.627045",
     "exception": false,
     "start_time": "2023-05-04T09:17:49.614397",
     "status": "completed"
    },
    "tags": []
   },
   "source": [
    "# Inference"
   ]
  },
  {
   "cell_type": "code",
   "execution_count": 7,
   "id": "012ef4f7",
   "metadata": {
    "execution": {
     "iopub.execute_input": "2023-05-04T09:17:49.653846Z",
     "iopub.status.busy": "2023-05-04T09:17:49.653566Z",
     "iopub.status.idle": "2023-05-04T09:17:52.376251Z",
     "shell.execute_reply": "2023-05-04T09:17:52.375260Z"
    },
    "papermill": {
     "duration": 2.739184,
     "end_time": "2023-05-04T09:17:52.379008",
     "exception": false,
     "start_time": "2023-05-04T09:17:49.639824",
     "status": "completed"
    },
    "tags": []
   },
   "outputs": [],
   "source": [
    "sys.path.append('../input/sentence-transformers-222/sentence-transformers')\n",
    "from sentence_transformers import SentenceTransformer, models\n",
    "\n",
    "comp_path = Path('../input/stable-diffusion-image-to-prompts/')\n",
    "st_model = SentenceTransformer('/kaggle/input/sentence-transformers-222/all-MiniLM-L6-v2')"
   ]
  },
  {
   "cell_type": "code",
   "execution_count": 8,
   "id": "e83372fc",
   "metadata": {
    "execution": {
     "iopub.execute_input": "2023-05-04T09:17:52.406528Z",
     "iopub.status.busy": "2023-05-04T09:17:52.406231Z",
     "iopub.status.idle": "2023-05-04T09:17:52.415560Z",
     "shell.execute_reply": "2023-05-04T09:17:52.414548Z"
    },
    "papermill": {
     "duration": 0.030379,
     "end_time": "2023-05-04T09:17:52.422728",
     "exception": false,
     "start_time": "2023-05-04T09:17:52.392349",
     "status": "completed"
    },
    "tags": []
   },
   "outputs": [],
   "source": [
    "class ImageGen(Dataset):\n",
    "    def __init__(self, root, batch_size=32):\n",
    "        self.root = root\n",
    "        self.im_paths = os.listdir(self.root)\n",
    "        self.batch_size = batch_size\n",
    "        self.sz = len(self.im_paths)\n",
    "        self.genlen = self.sz//self.batch_size + int(self.sz%self.batch_size > 0)\n",
    "        \n",
    "    def __getitem__(self, index):\n",
    "        if index >= self.genlen:\n",
    "            raise IndexError(\"Out of bounds\")\n",
    "        \n",
    "        l, r = index*self.batch_size, min(self.sz, (index+1)*self.batch_size)\n",
    "        \n",
    "        f_paths = [os.path.join(self.root, self.im_paths[i]) for i in range(l,r)]\n",
    "        f_ids = [self.im_paths[i][:-4] for i in range(l,r)]\n",
    "        \n",
    "        ims = [Image.open(f_path) for f_path in f_paths]\n",
    "        ims = [patch_resize_transform(im).cuda().unsqueeze(0) for im in ims]\n",
    "        ims = torch.cat(ims)\n",
    "        \n",
    "        return ims, f_ids\n",
    "    \n",
    "    def __len__(self):\n",
    "        return self.genlen"
   ]
  },
  {
   "cell_type": "code",
   "execution_count": 9,
   "id": "d6250c0e",
   "metadata": {
    "execution": {
     "iopub.execute_input": "2023-05-04T09:17:52.455224Z",
     "iopub.status.busy": "2023-05-04T09:17:52.454941Z",
     "iopub.status.idle": "2023-05-04T09:18:11.071216Z",
     "shell.execute_reply": "2023-05-04T09:18:11.070323Z"
    },
    "papermill": {
     "duration": 18.632067,
     "end_time": "2023-05-04T09:18:11.073297",
     "exception": false,
     "start_time": "2023-05-04T09:17:52.441230",
     "status": "completed"
    },
    "tags": []
   },
   "outputs": [
    {
     "data": {
      "application/vnd.jupyter.widget-view+json": {
       "model_id": "ce38cd062d934b44973a9025535994ad",
       "version_major": 2,
       "version_minor": 0
      },
      "text/plain": [
       "Batches:   0%|          | 0/1 [00:00<?, ?it/s]"
      ]
     },
     "metadata": {},
     "output_type": "display_data"
    }
   ],
   "source": [
    "sub_ids = []\n",
    "sub_embeds = []\n",
    "\n",
    "imgen = ImageGen(IMAGE_DIR, BATCH_SIZE)\n",
    "\n",
    "for b in imgen:\n",
    "    for j in range(len(b[1])):\n",
    "        sub_ids.extend([f\"{b[1][j]}_{i}\" for i in range(384)])\n",
    "    \n",
    "    img_batch = b[0]\n",
    "    out = model.generate(inputs.repeat(len(img_batch), 1).cuda(), patch_images=img_batch, num_beams=5, no_repeat_ngram_size=2)\n",
    "    out_captions = tokenizer.batch_decode(out, skip_special_tokens=True)\n",
    "    out_captions = [cap + \", fine details, masterpiece\" for cap in out_captions]\n",
    "    \n",
    "    embeddings = st_model.encode(out_captions).flatten()\n",
    "    sub_embeds.extend(embeddings)"
   ]
  },
  {
   "cell_type": "code",
   "execution_count": 10,
   "id": "98472382",
   "metadata": {
    "execution": {
     "iopub.execute_input": "2023-05-04T09:18:11.101910Z",
     "iopub.status.busy": "2023-05-04T09:18:11.100324Z",
     "iopub.status.idle": "2023-05-04T09:18:11.108719Z",
     "shell.execute_reply": "2023-05-04T09:18:11.107679Z"
    },
    "papermill": {
     "duration": 0.024333,
     "end_time": "2023-05-04T09:18:11.110904",
     "exception": false,
     "start_time": "2023-05-04T09:18:11.086571",
     "status": "completed"
    },
    "tags": []
   },
   "outputs": [
    {
     "data": {
      "text/plain": [
       "(2688,)"
      ]
     },
     "execution_count": 10,
     "metadata": {},
     "output_type": "execute_result"
    }
   ],
   "source": [
    "embeddings1 = np.array(sub_embeds)\n",
    "embeddings1.shape"
   ]
  },
  {
   "cell_type": "code",
   "execution_count": 11,
   "id": "1c04813b",
   "metadata": {
    "execution": {
     "iopub.execute_input": "2023-05-04T09:18:11.138401Z",
     "iopub.status.busy": "2023-05-04T09:18:11.137655Z",
     "iopub.status.idle": "2023-05-04T09:18:11.493839Z",
     "shell.execute_reply": "2023-05-04T09:18:11.492757Z"
    },
    "papermill": {
     "duration": 0.37255,
     "end_time": "2023-05-04T09:18:11.496399",
     "exception": false,
     "start_time": "2023-05-04T09:18:11.123849",
     "status": "completed"
    },
    "tags": []
   },
   "outputs": [
    {
     "data": {
      "text/plain": [
       "82"
      ]
     },
     "execution_count": 11,
     "metadata": {},
     "output_type": "execute_result"
    }
   ],
   "source": [
    "del model, tokenizer, st_model\n",
    "torch.cuda.empty_cache()\n",
    "gc.collect()"
   ]
  },
  {
   "cell_type": "markdown",
   "id": "b026f59e",
   "metadata": {
    "papermill": {
     "duration": 0.012841,
     "end_time": "2023-05-04T09:18:11.524195",
     "exception": false,
     "start_time": "2023-05-04T09:18:11.511354",
     "status": "completed"
    },
    "tags": []
   },
   "source": [
    "#### <a id=\"top\"></a>\n",
    "# <div style=\"box-shadow: rgb(60, 121, 245) 0px 0px 0px 3px inset, rgb(255, 255, 255) 10px -10px 0px -3px, rgb(31, 193, 27) 10px -10px, rgb(255, 255, 255) 20px -20px 0px -3px, rgb(255, 217, 19) 20px -20px, rgb(255, 255, 255) 30px -30px 0px -3px, rgb(255, 156, 85) 30px -30px, rgb(255, 255, 255) 40px -40px 0px -3px, rgb(255, 85, 85) 40px -40px; padding:20px; margin-right: 40px; font-size:30px; font-family: consolas; text-align:center; display:fill; border-radius:15px; color:rgb(60, 121, 245);\"><b>CLIP Interrogator</b></div>\n",
    "\n",
    "[original notebook](https://www.kaggle.com/code/leonidkulyk/lb-0-45836-blip-clip-clip-interrogator)"
   ]
  },
  {
   "cell_type": "markdown",
   "id": "f1a7429d",
   "metadata": {
    "papermill": {
     "duration": 0.013215,
     "end_time": "2023-05-04T09:18:11.550386",
     "exception": false,
     "start_time": "2023-05-04T09:18:11.537171",
     "status": "completed"
    },
    "tags": []
   },
   "source": [
    "<a id=\"1\"></a>\n",
    "# <div style=\"box-shadow: rgba(0, 0, 0, 0.16) 0px 1px 4px inset, rgb(51, 51, 51) 0px 0px 0px 3px inset; padding:20px; font-size:32px; font-family: consolas; text-align:center; display:fill; border-radius:15px;  color:rgb(34, 34, 34);\"> <b> 1. About CLIP interrogator tool</b></div>"
   ]
  },
  {
   "cell_type": "markdown",
   "id": "08950e1e",
   "metadata": {
    "papermill": {
     "duration": 0.012806,
     "end_time": "2023-05-04T09:18:11.576215",
     "exception": false,
     "start_time": "2023-05-04T09:18:11.563409",
     "status": "completed"
    },
    "tags": []
   },
   "source": [
    "<p style=\"font-family: consolas; font-size: 16px;\">⚪ The CLIP Interrogator is a prompt engineering tool that combines OpenAI's <a href=\"https://openai.com/blog/clip/\"><strong>CLIP</strong></a> and Salesforce's <a href=\"https://blog.salesforceairesearch.com/blip-bootstrapping-language-image-pretraining/\"><strong>BLIP</strong></a> to optimize text prompts to match a given image.</p>\n",
    "\n",
    "<p style=\"font-family: consolas; font-size: 16px;\">⚪ CLIP Interrogator uses OpenCLIP which supports many different pretrained CLIP models. For the best prompts for Stable Diffusion 2.0 uses <b>ViT-H-14/laion2b_s32b_b79k</b>.</p>\n",
    "\n",
    "\n",
    "<p style=\"font-family: consolas; font-size: 16px;\">⚪ CLIP Interrogator pipeline looks as follows:</p>\n",
    "\n",
    "* <p style=\"font-family: consolas; font-size: 16px;\">An image is passed to the input to BLIP to obtain the main description.</p>\n",
    "\n",
    "* <p style=\"font-family: consolas; font-size: 16px;\">An image is passed to the input to CLIP to receive its embedding.</p>\n",
    "\n",
    "* <p style=\"font-family: consolas; font-size: 16px;\">Embeddings received from the image are compared with embeddings received from labels from the lists and the top 4 with the greatest similarity are selected.</p>\n",
    "<p style=\"font-family: consolas; font-size: 16px;\">There are 4 main lists on which the outgoing prompt for the CLIP part is formed: <a href=\"https://github.com/pharmapsychotic/clip-interrogator/blob/main/clip_interrogator/data/artists.txt\"><strong>artists.txt</strong></a> (list with artists), <a href=\"https://github.com/pharmapsychotic/clip-interrogator/blob/main/clip_interrogator/data/flavors.txt\"><strong>flavors.txt</strong></a> (main list for image description), <a href=\"https://github.com/pharmapsychotic/clip-interrogator/blob/main/clip_interrogator/data/mediums.txt\"><strong>mediums.txt</strong></a> (image type), <a href=\"https://github.com/pharmapsychotic/clip-interrogator/blob/main/clip_interrogator/data/movements.txt\"><strong>movements.txt</strong></a> (image style) and <a href=\"https://github.com/pharmapsychotic/clip-interrogator/blob/main/clip_interrogator/clip_interrogator.py#L115\"><strong>sites</strong></a> (popular artwork sites). As I wrote earlier, removing the <b>artists.txt</b> and the <b>sites</b> lists can significantly improve the output score.</p>\n",
    "\n",
    "* <p style=\"font-family: consolas; font-size: 16px;\">The resulting texts are concatenated and returned as an image description (or promt on which an image was generated).</p>\n",
    "\n"
   ]
  },
  {
   "cell_type": "markdown",
   "id": "22ed2601",
   "metadata": {
    "papermill": {
     "duration": 0.012767,
     "end_time": "2023-05-04T09:18:11.601900",
     "exception": false,
     "start_time": "2023-05-04T09:18:11.589133",
     "status": "completed"
    },
    "tags": []
   },
   "source": [
    "<p style=\"font-family: consolas; font-size: 16px;\">🔴 CLIP Interrogator pipeline, schematic image [<a href=\"https://medium.com/@silkworm/diversify-photo-database-with-clip-interrogator-5dd1833be9f5\"><strong>source</strong></a>]:</p>\n",
    "\n",
    "![](https://user-images.githubusercontent.com/45982614/220214422-19529ba3-9c13-40cd-a3a6-434785002974.png)"
   ]
  },
  {
   "cell_type": "markdown",
   "id": "3d36ddb7",
   "metadata": {
    "papermill": {
     "duration": 0.012881,
     "end_time": "2023-05-04T09:18:11.627705",
     "exception": false,
     "start_time": "2023-05-04T09:18:11.614824",
     "status": "completed"
    },
    "tags": []
   },
   "source": [
    "<p style=\"font-family: consolas; font-size: 16px;\">⚪ If you want, you can experiment with this tool on the Hugging Face Space -- *<a href=\"https://huggingface.co/spaces/pharma/CLIP-Interrogator\"><strong>Click</strong></a>*. Example of an output:</p>\n",
    "\n",
    "![](https://user-images.githubusercontent.com/45982614/220215304-d7e79716-35a2-4f29-867f-57ca996aab2a.png)"
   ]
  },
  {
   "cell_type": "markdown",
   "id": "9331d27d",
   "metadata": {
    "papermill": {
     "duration": 0.012657,
     "end_time": "2023-05-04T09:18:11.653478",
     "exception": false,
     "start_time": "2023-05-04T09:18:11.640821",
     "status": "completed"
    },
    "tags": []
   },
   "source": [
    "<a id=\"2\"></a>\n",
    "# <div style=\"box-shadow: rgba(0, 0, 0, 0.16) 0px 1px 4px inset, rgb(51, 51, 51) 0px 0px 0px 3px inset; padding:20px; font-size:32px; font-family: consolas; text-align:center; display:fill; border-radius:15px;  color:rgb(34, 34, 34);\"> <b> 2. Install & Import all dependencies </b></div>"
   ]
  },
  {
   "cell_type": "code",
   "execution_count": 12,
   "id": "4bdeb40f",
   "metadata": {
    "execution": {
     "iopub.execute_input": "2023-05-04T09:18:11.680744Z",
     "iopub.status.busy": "2023-05-04T09:18:11.680442Z",
     "iopub.status.idle": "2023-05-04T09:18:11.684963Z",
     "shell.execute_reply": "2023-05-04T09:18:11.683935Z"
    },
    "papermill": {
     "duration": 0.02064,
     "end_time": "2023-05-04T09:18:11.687159",
     "exception": false,
     "start_time": "2023-05-04T09:18:11.666519",
     "status": "completed"
    },
    "tags": []
   },
   "outputs": [],
   "source": [
    "wheels_path = \"/kaggle/input/clip-interrogator-wheels-x\"\n",
    "clip_interrogator_whl_path = f\"{wheels_path}/clip_interrogator-0.4.3-py3-none-any.whl\""
   ]
  },
  {
   "cell_type": "code",
   "execution_count": 13,
   "id": "0bce4a1a",
   "metadata": {
    "_kg_hide-output": true,
    "execution": {
     "iopub.execute_input": "2023-05-04T09:18:11.714292Z",
     "iopub.status.busy": "2023-05-04T09:18:11.714032Z",
     "iopub.status.idle": "2023-05-04T09:18:35.994369Z",
     "shell.execute_reply": "2023-05-04T09:18:35.993128Z"
    },
    "papermill": {
     "duration": 24.296876,
     "end_time": "2023-05-04T09:18:35.996935",
     "exception": false,
     "start_time": "2023-05-04T09:18:11.700059",
     "status": "completed"
    },
    "tags": []
   },
   "outputs": [
    {
     "name": "stdout",
     "output_type": "stream",
     "text": [
      "huggingface/tokenizers: The current process just got forked, after parallelism has already been used. Disabling parallelism to avoid deadlocks...\n",
      "To disable this warning, you can either:\n",
      "\t- Avoid using `tokenizers` before the fork if possible\n",
      "\t- Explicitly set the environment variable TOKENIZERS_PARALLELISM=(true | false)\n",
      "\u001b[31mERROR: pip's dependency resolver does not currently take into account all the packages that are installed. This behaviour is the source of the following dependency conflicts.\r\n",
      "tensorflow-io 0.21.0 requires tensorflow-io-gcs-filesystem==0.21.0, which is not installed.\r\n",
      "beatrix-jupyterlab 3.1.7 requires google-cloud-bigquery-storage, which is not installed.\r\n",
      "tfx-bsl 1.9.0 requires google-api-python-client<2,>=1.7.11, but you have google-api-python-client 2.52.0 which is incompatible.\r\n",
      "tfx-bsl 1.9.0 requires tensorflow!=2.0.*,!=2.1.*,!=2.2.*,!=2.3.*,!=2.4.*,!=2.5.*,!=2.6.*,!=2.7.*,!=2.8.*,<3,>=1.15.5, but you have tensorflow 2.6.4 which is incompatible.\r\n",
      "tensorflow 2.6.4 requires h5py~=3.1.0, but you have h5py 3.8.0 which is incompatible.\r\n",
      "tensorflow 2.6.4 requires numpy~=1.19.2, but you have numpy 1.21.6 which is incompatible.\r\n",
      "tensorflow 2.6.4 requires typing-extensions<3.11,>=3.7, but you have typing-extensions 4.1.1 which is incompatible.\r\n",
      "tensorflow-transform 1.9.0 requires tensorflow!=2.0.*,!=2.1.*,!=2.2.*,!=2.3.*,!=2.4.*,!=2.5.*,!=2.6.*,!=2.7.*,!=2.8.*,<2.10,>=1.15.5, but you have tensorflow 2.6.4 which is incompatible.\r\n",
      "tensorflow-serving-api 2.9.0 requires tensorflow<3,>=2.9.0, but you have tensorflow 2.6.4 which is incompatible.\r\n",
      "tensorboardx 2.5.1 requires protobuf<=3.20.1,>=3.8.0, but you have protobuf 3.20.3 which is incompatible.\r\n",
      "ortools 9.5.2237 requires protobuf>=4.21.5, but you have protobuf 3.20.3 which is incompatible.\r\n",
      "onnx 1.12.0 requires protobuf<=3.20.1,>=3.12.2, but you have protobuf 3.20.3 which is incompatible.\r\n",
      "nnabla 1.33.0 requires protobuf<=3.19.4; platform_system != \"Windows\", but you have protobuf 3.20.3 which is incompatible.\r\n",
      "gcsfs 2022.5.0 requires fsspec==2022.5.0, but you have fsspec 2023.1.0 which is incompatible.\r\n",
      "apache-beam 2.40.0 requires dill<0.3.2,>=0.3.1.1, but you have dill 0.3.6 which is incompatible.\r\n",
      "allennlp 2.10.1 requires fairscale==0.4.6, but you have fairscale 0.4.4 which is incompatible.\u001b[0m\u001b[31m\r\n",
      "\u001b[0m\u001b[33mWARNING: Running pip as the 'root' user can result in broken permissions and conflicting behaviour with the system package manager. It is recommended to use a virtual environment instead: https://pip.pypa.io/warnings/venv\u001b[0m\u001b[33m\r\n",
      "\u001b[0m"
     ]
    }
   ],
   "source": [
    "!pip install --no-index --find-links $wheels_path $clip_interrogator_whl_path -q"
   ]
  },
  {
   "cell_type": "code",
   "execution_count": 14,
   "id": "9d04533e",
   "metadata": {
    "execution": {
     "iopub.execute_input": "2023-05-04T09:18:36.026217Z",
     "iopub.status.busy": "2023-05-04T09:18:36.025580Z",
     "iopub.status.idle": "2023-05-04T09:18:59.284240Z",
     "shell.execute_reply": "2023-05-04T09:18:59.283059Z"
    },
    "papermill": {
     "duration": 23.27585,
     "end_time": "2023-05-04T09:18:59.286870",
     "exception": false,
     "start_time": "2023-05-04T09:18:36.011020",
     "status": "completed"
    },
    "tags": []
   },
   "outputs": [
    {
     "name": "stdout",
     "output_type": "stream",
     "text": [
      "huggingface/tokenizers: The current process just got forked, after parallelism has already been used. Disabling parallelism to avoid deadlocks...\n",
      "To disable this warning, you can either:\n",
      "\t- Avoid using `tokenizers` before the fork if possible\n",
      "\t- Explicitly set the environment variable TOKENIZERS_PARALLELISM=(true | false)\n",
      "transformers                          4.15.0\r\n",
      "\u001b[33mWARNING: There was an error checking the latest version of pip.\u001b[0m\u001b[33m\r\n",
      "\u001b[0m"
     ]
    }
   ],
   "source": [
    "!pip list | grep transformers"
   ]
  },
  {
   "cell_type": "code",
   "execution_count": 15,
   "id": "53da3166",
   "metadata": {
    "_kg_hide-input": true,
    "execution": {
     "iopub.execute_input": "2023-05-04T09:18:59.316796Z",
     "iopub.status.busy": "2023-05-04T09:18:59.316145Z",
     "iopub.status.idle": "2023-05-04T09:19:00.298525Z",
     "shell.execute_reply": "2023-05-04T09:19:00.297455Z"
    },
    "papermill": {
     "duration": 0.999833,
     "end_time": "2023-05-04T09:19:00.301002",
     "exception": false,
     "start_time": "2023-05-04T09:18:59.301169",
     "status": "completed"
    },
    "tags": []
   },
   "outputs": [
    {
     "name": "stdout",
     "output_type": "stream",
     "text": [
      "huggingface/tokenizers: The current process just got forked, after parallelism has already been used. Disabling parallelism to avoid deadlocks...\n",
      "To disable this warning, you can either:\n",
      "\t- Avoid using `tokenizers` before the fork if possible\n",
      "\t- Explicitly set the environment variable TOKENIZERS_PARALLELISM=(true | false)\n",
      "huggingface/tokenizers: The current process just got forked, after parallelism has already been used. Disabling parallelism to avoid deadlocks...\n",
      "To disable this warning, you can either:\n",
      "\t- Avoid using `tokenizers` before the fork if possible\n",
      "\t- Explicitly set the environment variable TOKENIZERS_PARALLELISM=(true | false)\n",
      "huggingface/tokenizers: The current process just got forked, after parallelism has already been used. Disabling parallelism to avoid deadlocks...\n",
      "To disable this warning, you can either:\n",
      "\t- Avoid using `tokenizers` before the fork if possible\n",
      "\t- Explicitly set the environment variable TOKENIZERS_PARALLELISM=(true | false)\n"
     ]
    }
   ],
   "source": [
    "import inspect\n",
    "import importlib\n",
    "\n",
    "from blip.models import blip\n",
    "from clip_interrogator import clip_interrogator"
   ]
  },
  {
   "cell_type": "code",
   "execution_count": 16,
   "id": "f98b9567",
   "metadata": {
    "_kg_hide-input": true,
    "_kg_hide-output": true,
    "execution": {
     "iopub.execute_input": "2023-05-04T09:19:00.330734Z",
     "iopub.status.busy": "2023-05-04T09:19:00.329792Z",
     "iopub.status.idle": "2023-05-04T09:19:00.341985Z",
     "shell.execute_reply": "2023-05-04T09:19:00.340966Z"
    },
    "papermill": {
     "duration": 0.029055,
     "end_time": "2023-05-04T09:19:00.344107",
     "exception": false,
     "start_time": "2023-05-04T09:19:00.315052",
     "status": "completed"
    },
    "tags": []
   },
   "outputs": [
    {
     "data": {
      "text/plain": [
       "<module 'blip.models.blip' from '/opt/conda/lib/python3.7/site-packages/blip/models/blip.py'>"
      ]
     },
     "execution_count": 16,
     "metadata": {},
     "output_type": "execute_result"
    }
   ],
   "source": [
    "# replace tokenizer path to prevent downloading\n",
    "blip_path = inspect.getfile(blip)\n",
    "\n",
    "fin = open(blip_path, \"rt\")\n",
    "data = fin.read()\n",
    "data = data.replace(\n",
    "    \"BertTokenizer.from_pretrained('bert-base-uncased')\", \n",
    "    \"BertTokenizer.from_pretrained('/kaggle/input/clip-interrogator-models-x/bert-base-uncased')\"\n",
    ")\n",
    "fin.close()\n",
    "\n",
    "fin = open(blip_path, \"wt\")\n",
    "fin.write(data)\n",
    "fin.close()\n",
    "\n",
    "# reload module\n",
    "importlib.reload(blip)"
   ]
  },
  {
   "cell_type": "code",
   "execution_count": 17,
   "id": "f02f730e",
   "metadata": {
    "_kg_hide-input": true,
    "_kg_hide-output": true,
    "execution": {
     "iopub.execute_input": "2023-05-04T09:19:00.372884Z",
     "iopub.status.busy": "2023-05-04T09:19:00.371995Z",
     "iopub.status.idle": "2023-05-04T09:19:00.386946Z",
     "shell.execute_reply": "2023-05-04T09:19:00.386002Z"
    },
    "papermill": {
     "duration": 0.031321,
     "end_time": "2023-05-04T09:19:00.388896",
     "exception": false,
     "start_time": "2023-05-04T09:19:00.357575",
     "status": "completed"
    },
    "tags": []
   },
   "outputs": [
    {
     "data": {
      "text/plain": [
       "<module 'clip_interrogator.clip_interrogator' from '/opt/conda/lib/python3.7/site-packages/clip_interrogator/clip_interrogator.py'>"
      ]
     },
     "execution_count": 17,
     "metadata": {},
     "output_type": "execute_result"
    }
   ],
   "source": [
    "# fix clip_interrogator bug\n",
    "clip_interrogator_path = inspect.getfile(clip_interrogator.Interrogator)\n",
    "\n",
    "fin = open(clip_interrogator_path, \"rt\")\n",
    "data = fin.read()\n",
    "data = data.replace(\n",
    "    'open_clip.get_tokenizer(clip_model_name)', \n",
    "    'open_clip.get_tokenizer(config.clip_model_name.split(\"/\", 2)[0])'\n",
    ")\n",
    "fin.close()\n",
    "\n",
    "fin = open(clip_interrogator_path, \"wt\")\n",
    "fin.write(data)\n",
    "fin.close()\n",
    "\n",
    "# reload module\n",
    "importlib.reload(clip_interrogator)"
   ]
  },
  {
   "cell_type": "code",
   "execution_count": 18,
   "id": "197ec6d6",
   "metadata": {
    "execution": {
     "iopub.execute_input": "2023-05-04T09:19:00.417629Z",
     "iopub.status.busy": "2023-05-04T09:19:00.416934Z",
     "iopub.status.idle": "2023-05-04T09:19:00.422120Z",
     "shell.execute_reply": "2023-05-04T09:19:00.421203Z"
    },
    "papermill": {
     "duration": 0.021525,
     "end_time": "2023-05-04T09:19:00.424058",
     "exception": false,
     "start_time": "2023-05-04T09:19:00.402533",
     "status": "completed"
    },
    "tags": []
   },
   "outputs": [],
   "source": [
    "import os\n",
    "import sys\n",
    "from PIL import Image\n",
    "from pathlib import Path\n",
    "import matplotlib.pyplot as plt \n",
    "\n",
    "import numpy as np\n",
    "import pandas as pd\n",
    "import torch\n",
    "import open_clip\n",
    "\n",
    "\n",
    "sys.path.append('../input/sentence-transformers-222/sentence-transformers')\n",
    "from sentence_transformers import SentenceTransformer, models\n",
    "\n",
    "comp_path = Path('/kaggle/input/stable-diffusion-image-to-prompts/')"
   ]
  },
  {
   "cell_type": "markdown",
   "id": "6eaf15a0",
   "metadata": {
    "papermill": {
     "duration": 0.013897,
     "end_time": "2023-05-04T09:19:00.451411",
     "exception": false,
     "start_time": "2023-05-04T09:19:00.437514",
     "status": "completed"
    },
    "tags": []
   },
   "source": [
    "<a id=\"3\"></a>\n",
    "# <div style=\"box-shadow: rgba(0, 0, 0, 0.16) 0px 1px 4px inset, rgb(51, 51, 51) 0px 0px 0px 3px inset; padding:20px; font-size:32px; font-family: consolas; text-align:center; display:fill; border-radius:15px;  color:rgb(34, 34, 34);\"> <b> 3. Set configs</b></div>"
   ]
  },
  {
   "cell_type": "code",
   "execution_count": 19,
   "id": "21e32f8e",
   "metadata": {
    "execution": {
     "iopub.execute_input": "2023-05-04T09:19:00.479928Z",
     "iopub.status.busy": "2023-05-04T09:19:00.479395Z",
     "iopub.status.idle": "2023-05-04T09:19:00.484298Z",
     "shell.execute_reply": "2023-05-04T09:19:00.483340Z"
    },
    "papermill": {
     "duration": 0.021208,
     "end_time": "2023-05-04T09:19:00.486209",
     "exception": false,
     "start_time": "2023-05-04T09:19:00.465001",
     "status": "completed"
    },
    "tags": []
   },
   "outputs": [],
   "source": [
    "class CFG:\n",
    "    device = \"cuda\"\n",
    "    seed = 42\n",
    "    embedding_length = 384\n",
    "    sentence_model_path = \"/kaggle/input/sentence-transformers-222/all-MiniLM-L6-v2\"\n",
    "    blip_model_path = \"/kaggle/input/clip-interrogator-models-x/model_large_caption.pth\"\n",
    "    ci_clip_model_name = \"ViT-H-14/laion2b_s32b_b79k\"\n",
    "    clip_model_name = \"ViT-H-14\"\n",
    "    clip_model_path = \"/kaggle/input/clip-interrogator-models-x/CLIP-ViT-H-14-laion2B-s32B-b79K/open_clip_pytorch_model.bin\"\n",
    "    cache_path = \"/kaggle/input/clip-interrogator-models-x\""
   ]
  },
  {
   "cell_type": "markdown",
   "id": "ebb2cd14",
   "metadata": {
    "papermill": {
     "duration": 0.013334,
     "end_time": "2023-05-04T09:19:00.512916",
     "exception": false,
     "start_time": "2023-05-04T09:19:00.499582",
     "status": "completed"
    },
    "tags": []
   },
   "source": [
    "<a id=\"4\"></a>\n",
    "# <div style=\"box-shadow: rgba(0, 0, 0, 0.16) 0px 1px 4px inset, rgb(51, 51, 51) 0px 0px 0px 3px inset; padding:20px; font-size:32px; font-family: consolas; text-align:center; display:fill; border-radius:15px;  color:rgb(34, 34, 34);\"> <b> 4. Load the Sample Submission</b></div>"
   ]
  },
  {
   "cell_type": "code",
   "execution_count": 20,
   "id": "7b895a72",
   "metadata": {
    "execution": {
     "iopub.execute_input": "2023-05-04T09:19:00.541375Z",
     "iopub.status.busy": "2023-05-04T09:19:00.540597Z",
     "iopub.status.idle": "2023-05-04T09:19:00.574921Z",
     "shell.execute_reply": "2023-05-04T09:19:00.573906Z"
    },
    "papermill": {
     "duration": 0.050732,
     "end_time": "2023-05-04T09:19:00.577104",
     "exception": false,
     "start_time": "2023-05-04T09:19:00.526372",
     "status": "completed"
    },
    "tags": []
   },
   "outputs": [
    {
     "data": {
      "text/html": [
       "<div>\n",
       "<style scoped>\n",
       "    .dataframe tbody tr th:only-of-type {\n",
       "        vertical-align: middle;\n",
       "    }\n",
       "\n",
       "    .dataframe tbody tr th {\n",
       "        vertical-align: top;\n",
       "    }\n",
       "\n",
       "    .dataframe thead th {\n",
       "        text-align: right;\n",
       "    }\n",
       "</style>\n",
       "<table border=\"1\" class=\"dataframe\">\n",
       "  <thead>\n",
       "    <tr style=\"text-align: right;\">\n",
       "      <th></th>\n",
       "      <th>val</th>\n",
       "    </tr>\n",
       "    <tr>\n",
       "      <th>imgId_eId</th>\n",
       "      <th></th>\n",
       "    </tr>\n",
       "  </thead>\n",
       "  <tbody>\n",
       "    <tr>\n",
       "      <th>20057f34d_0</th>\n",
       "      <td>0.018848</td>\n",
       "    </tr>\n",
       "    <tr>\n",
       "      <th>20057f34d_1</th>\n",
       "      <td>0.030190</td>\n",
       "    </tr>\n",
       "    <tr>\n",
       "      <th>20057f34d_2</th>\n",
       "      <td>0.072792</td>\n",
       "    </tr>\n",
       "    <tr>\n",
       "      <th>20057f34d_3</th>\n",
       "      <td>-0.000673</td>\n",
       "    </tr>\n",
       "    <tr>\n",
       "      <th>20057f34d_4</th>\n",
       "      <td>0.016774</td>\n",
       "    </tr>\n",
       "  </tbody>\n",
       "</table>\n",
       "</div>"
      ],
      "text/plain": [
       "                  val\n",
       "imgId_eId            \n",
       "20057f34d_0  0.018848\n",
       "20057f34d_1  0.030190\n",
       "20057f34d_2  0.072792\n",
       "20057f34d_3 -0.000673\n",
       "20057f34d_4  0.016774"
      ]
     },
     "execution_count": 20,
     "metadata": {},
     "output_type": "execute_result"
    }
   ],
   "source": [
    "df_submission = pd.read_csv(comp_path / 'sample_submission.csv', index_col='imgId_eId')\n",
    "df_submission.head()"
   ]
  },
  {
   "cell_type": "markdown",
   "id": "6f452299",
   "metadata": {
    "papermill": {
     "duration": 0.013602,
     "end_time": "2023-05-04T09:19:00.604729",
     "exception": false,
     "start_time": "2023-05-04T09:19:00.591127",
     "status": "completed"
    },
    "tags": []
   },
   "source": [
    "<a id=\"5\"></a>\n",
    "# <div style=\"box-shadow: rgba(0, 0, 0, 0.16) 0px 1px 4px inset, rgb(51, 51, 51) 0px 0px 0px 3px inset; padding:20px; font-size:32px; font-family: consolas; text-align:center; display:fill; border-radius:15px;  color:rgb(34, 34, 34);\"> <b> 5. Build index from images</b></div>"
   ]
  },
  {
   "cell_type": "code",
   "execution_count": 21,
   "id": "c803e988",
   "metadata": {
    "execution": {
     "iopub.execute_input": "2023-05-04T09:19:00.638618Z",
     "iopub.status.busy": "2023-05-04T09:19:00.638340Z",
     "iopub.status.idle": "2023-05-04T09:19:00.649894Z",
     "shell.execute_reply": "2023-05-04T09:19:00.649059Z"
    },
    "papermill": {
     "duration": 0.0317,
     "end_time": "2023-05-04T09:19:00.651841",
     "exception": false,
     "start_time": "2023-05-04T09:19:00.620141",
     "status": "completed"
    },
    "tags": []
   },
   "outputs": [],
   "source": [
    "images = os.listdir(comp_path / 'images')\n",
    "imgIds = [i.split('.')[0] for i in images]\n",
    "\n",
    "eIds = list(range(CFG.embedding_length))\n",
    "\n",
    "imgId_eId = [\n",
    "    '_'.join(map(str, i)) for i in zip(\n",
    "        np.repeat(imgIds, CFG.embedding_length),\n",
    "        np.tile(range(CFG.embedding_length), len(imgIds))\n",
    "    )\n",
    "]\n",
    "\n",
    "assert sorted(imgId_eId) == sorted(df_submission.index)"
   ]
  },
  {
   "cell_type": "markdown",
   "id": "c38926a2",
   "metadata": {
    "papermill": {
     "duration": 0.013472,
     "end_time": "2023-05-04T09:19:00.679283",
     "exception": false,
     "start_time": "2023-05-04T09:19:00.665811",
     "status": "completed"
    },
    "tags": []
   },
   "source": [
    "<a id=\"6\"></a>\n",
    "# <div style=\"box-shadow: rgba(0, 0, 0, 0.16) 0px 1px 4px inset, rgb(51, 51, 51) 0px 0px 0px 3px inset; padding:20px; font-size:32px; font-family: consolas; text-align:center; display:fill; border-radius:15px;  color:rgb(34, 34, 34);\"> <b> 6. Load the embedding model</b></div>"
   ]
  },
  {
   "cell_type": "code",
   "execution_count": 22,
   "id": "5d9f40c1",
   "metadata": {
    "execution": {
     "iopub.execute_input": "2023-05-04T09:19:00.708086Z",
     "iopub.status.busy": "2023-05-04T09:19:00.707321Z",
     "iopub.status.idle": "2023-05-04T09:19:01.007311Z",
     "shell.execute_reply": "2023-05-04T09:19:01.006026Z"
    },
    "papermill": {
     "duration": 0.316992,
     "end_time": "2023-05-04T09:19:01.009956",
     "exception": false,
     "start_time": "2023-05-04T09:19:00.692964",
     "status": "completed"
    },
    "tags": []
   },
   "outputs": [],
   "source": [
    "st_model = SentenceTransformer(CFG.sentence_model_path)"
   ]
  },
  {
   "cell_type": "markdown",
   "id": "06082f40",
   "metadata": {
    "papermill": {
     "duration": 0.013599,
     "end_time": "2023-05-04T09:19:01.037859",
     "exception": false,
     "start_time": "2023-05-04T09:19:01.024260",
     "status": "completed"
    },
    "tags": []
   },
   "source": [
    "<a id=\"7\"></a>\n",
    "# <div style=\"box-shadow: rgba(0, 0, 0, 0.16) 0px 1px 4px inset, rgb(51, 51, 51) 0px 0px 0px 3px inset; padding:20px; font-size:32px; font-family: consolas; text-align:center; display:fill; border-radius:15px;  color:rgb(34, 34, 34);\"> <b> 7. Prepare CLIP interrogator tool</b></div>"
   ]
  },
  {
   "cell_type": "markdown",
   "id": "33c03439",
   "metadata": {
    "papermill": {
     "duration": 0.014056,
     "end_time": "2023-05-04T09:19:01.065709",
     "exception": false,
     "start_time": "2023-05-04T09:19:01.051653",
     "status": "completed"
    },
    "tags": []
   },
   "source": [
    "<a id=\"7.1\"></a>\n",
    "## <div style=\"box-shadow: rgba(0, 0, 0, 0.18) 0px 2px 4px inset; padding:20px; font-size:24px; font-family: consolas; text-align:center; display:fill; border-radius:15px; color:rgb(67, 66, 66)\"> <b> 7.1 Define CLIP interrogator config</b></div>"
   ]
  },
  {
   "cell_type": "code",
   "execution_count": 23,
   "id": "f2ed9128",
   "metadata": {
    "execution": {
     "iopub.execute_input": "2023-05-04T09:19:01.095212Z",
     "iopub.status.busy": "2023-05-04T09:19:01.094360Z",
     "iopub.status.idle": "2023-05-04T09:19:01.099419Z",
     "shell.execute_reply": "2023-05-04T09:19:01.098557Z"
    },
    "papermill": {
     "duration": 0.021753,
     "end_time": "2023-05-04T09:19:01.101383",
     "exception": false,
     "start_time": "2023-05-04T09:19:01.079630",
     "status": "completed"
    },
    "tags": []
   },
   "outputs": [],
   "source": [
    "model_config = clip_interrogator.Config(clip_model_name=CFG.ci_clip_model_name)\n",
    "model_config.cache_path = CFG.cache_path"
   ]
  },
  {
   "cell_type": "markdown",
   "id": "82eab616",
   "metadata": {
    "papermill": {
     "duration": 0.013408,
     "end_time": "2023-05-04T09:19:01.128373",
     "exception": false,
     "start_time": "2023-05-04T09:19:01.114965",
     "status": "completed"
    },
    "tags": []
   },
   "source": [
    "<a id=\"7.2\"></a>\n",
    "## <div style=\"box-shadow: rgba(0, 0, 0, 0.18) 0px 2px 4px inset; padding:20px; font-size:24px; font-family: consolas; text-align:center; display:fill; border-radius:15px; color:rgb(67, 66, 66)\"> <b> 7.2 Define BLIP model</b></div>"
   ]
  },
  {
   "cell_type": "code",
   "execution_count": 24,
   "id": "29f82a2f",
   "metadata": {
    "execution": {
     "iopub.execute_input": "2023-05-04T09:19:01.157096Z",
     "iopub.status.busy": "2023-05-04T09:19:01.156815Z",
     "iopub.status.idle": "2023-05-04T09:19:28.985255Z",
     "shell.execute_reply": "2023-05-04T09:19:28.984151Z"
    },
    "papermill": {
     "duration": 27.845343,
     "end_time": "2023-05-04T09:19:28.987625",
     "exception": false,
     "start_time": "2023-05-04T09:19:01.142282",
     "status": "completed"
    },
    "tags": []
   },
   "outputs": [
    {
     "name": "stdout",
     "output_type": "stream",
     "text": [
      "load checkpoint from /kaggle/input/clip-interrogator-models-x/model_large_caption.pth\n"
     ]
    }
   ],
   "source": [
    "configs_path = os.path.join(os.path.dirname(os.path.dirname(blip_path)), 'configs')\n",
    "med_config = os.path.join(configs_path, 'med_config.json')\n",
    "blip_model = blip.blip_decoder(\n",
    "    pretrained=CFG.blip_model_path,\n",
    "    image_size=model_config.blip_image_eval_size, \n",
    "    vit=model_config.blip_model_type, \n",
    "    med_config=med_config\n",
    ")\n",
    "blip_model.eval()\n",
    "blip_model = blip_model.to(model_config.device)\n",
    "model_config.blip_model = blip_model"
   ]
  },
  {
   "cell_type": "markdown",
   "id": "2b8a8cbc",
   "metadata": {
    "papermill": {
     "duration": 0.013778,
     "end_time": "2023-05-04T09:19:29.015905",
     "exception": false,
     "start_time": "2023-05-04T09:19:29.002127",
     "status": "completed"
    },
    "tags": []
   },
   "source": [
    "<a id=\"7.3\"></a>\n",
    "## <div style=\"box-shadow: rgba(0, 0, 0, 0.18) 0px 2px 4px inset; padding:20px; font-size:24px; font-family: consolas; text-align:center; display:fill; border-radius:15px; color:rgb(67, 66, 66)\"> <b> 7.3 Define CLIP model</b></div>"
   ]
  },
  {
   "cell_type": "code",
   "execution_count": 25,
   "id": "ee00d93c",
   "metadata": {
    "execution": {
     "iopub.execute_input": "2023-05-04T09:19:29.045039Z",
     "iopub.status.busy": "2023-05-04T09:19:29.044710Z",
     "iopub.status.idle": "2023-05-04T09:20:16.257279Z",
     "shell.execute_reply": "2023-05-04T09:20:16.255211Z"
    },
    "papermill": {
     "duration": 47.232436,
     "end_time": "2023-05-04T09:20:16.262442",
     "exception": false,
     "start_time": "2023-05-04T09:19:29.030006",
     "status": "completed"
    },
    "tags": []
   },
   "outputs": [],
   "source": [
    "clip_model = open_clip.create_model(CFG.clip_model_name, precision='fp16' if model_config.device == 'cuda' else 'fp32')\n",
    "open_clip.load_checkpoint(clip_model, CFG.clip_model_path)\n",
    "clip_model.to(model_config.device).eval()\n",
    "model_config.clip_model = clip_model"
   ]
  },
  {
   "cell_type": "code",
   "execution_count": 26,
   "id": "c00659cd",
   "metadata": {
    "execution": {
     "iopub.execute_input": "2023-05-04T09:20:16.294546Z",
     "iopub.status.busy": "2023-05-04T09:20:16.293652Z",
     "iopub.status.idle": "2023-05-04T09:20:16.300027Z",
     "shell.execute_reply": "2023-05-04T09:20:16.299154Z"
    },
    "papermill": {
     "duration": 0.022989,
     "end_time": "2023-05-04T09:20:16.301805",
     "exception": false,
     "start_time": "2023-05-04T09:20:16.278816",
     "status": "completed"
    },
    "tags": []
   },
   "outputs": [],
   "source": [
    "clip_preprocess = open_clip.image_transform(\n",
    "    clip_model.visual.image_size,\n",
    "    is_train = False,\n",
    "    mean = getattr(clip_model.visual, 'image_mean', None),\n",
    "    std = getattr(clip_model.visual, 'image_std', None),\n",
    ")\n",
    "model_config.clip_preprocess = clip_preprocess"
   ]
  },
  {
   "cell_type": "markdown",
   "id": "9b4d1d81",
   "metadata": {
    "papermill": {
     "duration": 0.013433,
     "end_time": "2023-05-04T09:20:16.329267",
     "exception": false,
     "start_time": "2023-05-04T09:20:16.315834",
     "status": "completed"
    },
    "tags": []
   },
   "source": [
    "<a id=\"7.4\"></a>\n",
    "## <div style=\"box-shadow: rgba(0, 0, 0, 0.18) 0px 2px 4px inset; padding:20px; font-size:24px; font-family: consolas; text-align:center; display:fill; border-radius:15px; color:rgb(67, 66, 66)\"> <b> 7.4 Create CLIP interrogator object</b></div>"
   ]
  },
  {
   "cell_type": "code",
   "execution_count": 27,
   "id": "7dfec9f6",
   "metadata": {
    "execution": {
     "iopub.execute_input": "2023-05-04T09:20:16.358046Z",
     "iopub.status.busy": "2023-05-04T09:20:16.357754Z",
     "iopub.status.idle": "2023-05-04T09:20:18.814262Z",
     "shell.execute_reply": "2023-05-04T09:20:18.813035Z"
    },
    "papermill": {
     "duration": 2.473611,
     "end_time": "2023-05-04T09:20:18.816650",
     "exception": false,
     "start_time": "2023-05-04T09:20:16.343039",
     "status": "completed"
    },
    "tags": []
   },
   "outputs": [
    {
     "name": "stdout",
     "output_type": "stream",
     "text": [
      "Loaded CLIP model and data in 2.45 seconds.\n"
     ]
    }
   ],
   "source": [
    "ci = clip_interrogator.Interrogator(model_config)"
   ]
  },
  {
   "cell_type": "markdown",
   "id": "f8e7e7c8",
   "metadata": {
    "papermill": {
     "duration": 0.013628,
     "end_time": "2023-05-04T09:20:18.844667",
     "exception": false,
     "start_time": "2023-05-04T09:20:18.831039",
     "status": "completed"
    },
    "tags": []
   },
   "source": [
    "<a id=\"8\"></a>\n",
    "# <div style=\"box-shadow: rgba(0, 0, 0, 0.16) 0px 1px 4px inset, rgb(51, 51, 51) 0px 0px 0px 3px inset; padding:20px; font-size:32px; font-family: consolas; text-align:center; display:fill; border-radius:15px;  color:rgb(34, 34, 34);\"> <b> 8. Define interrogate function</b></div>"
   ]
  },
  {
   "cell_type": "markdown",
   "id": "791bd253",
   "metadata": {
    "papermill": {
     "duration": 0.013555,
     "end_time": "2023-05-04T09:20:18.872072",
     "exception": false,
     "start_time": "2023-05-04T09:20:18.858517",
     "status": "completed"
    },
    "tags": []
   },
   "source": [
    "<a id=\"8.1\"></a>\n",
    "## <div style=\"box-shadow: rgba(0, 0, 0, 0.18) 0px 2px 4px inset; padding:20px; font-size:24px; font-family: consolas; text-align:center; display:fill; border-radius:15px; color:rgb(67, 66, 66)\"> <b> 8.1 Get labels embeddings</b></div>"
   ]
  },
  {
   "cell_type": "markdown",
   "id": "dcf632d4",
   "metadata": {
    "papermill": {
     "duration": 0.013819,
     "end_time": "2023-05-04T09:20:18.899718",
     "exception": false,
     "start_time": "2023-05-04T09:20:18.885899",
     "status": "completed"
    },
    "tags": []
   },
   "source": [
    "<p style=\"font-family: consolas; font-size: 16px;\">⚪ Original CLIP Interrogator uses image_features and text_embeds matrix multiplication to fine the similarity between the corresponding image and text label. But I found that using cosine similarity is much faster and the resulting score is almost identical. So take that into account.</p>"
   ]
  },
  {
   "cell_type": "code",
   "execution_count": 28,
   "id": "b869408f",
   "metadata": {
    "execution": {
     "iopub.execute_input": "2023-05-04T09:20:18.928721Z",
     "iopub.status.busy": "2023-05-04T09:20:18.928409Z",
     "iopub.status.idle": "2023-05-04T09:20:19.580395Z",
     "shell.execute_reply": "2023-05-04T09:20:19.579362Z"
    },
    "papermill": {
     "duration": 0.669558,
     "end_time": "2023-05-04T09:20:19.583225",
     "exception": false,
     "start_time": "2023-05-04T09:20:18.913667",
     "status": "completed"
    },
    "tags": []
   },
   "outputs": [],
   "source": [
    "cos = torch.nn.CosineSimilarity(dim=1)\n",
    "\n",
    "mediums_features_array = torch.stack([torch.from_numpy(t) for t in ci.mediums.embeds]).to(ci.device)\n",
    "movements_features_array = torch.stack([torch.from_numpy(t) for t in ci.movements.embeds]).to(ci.device)\n",
    "flavors_features_array = torch.stack([torch.from_numpy(t) for t in ci.flavors.embeds]).to(ci.device)"
   ]
  },
  {
   "cell_type": "markdown",
   "id": "fd68eaad",
   "metadata": {
    "papermill": {
     "duration": 0.013651,
     "end_time": "2023-05-04T09:20:19.611177",
     "exception": false,
     "start_time": "2023-05-04T09:20:19.597526",
     "status": "completed"
    },
    "tags": []
   },
   "source": [
    "<a id=\"8.2\"></a>\n",
    "## <div style=\"box-shadow: rgba(0, 0, 0, 0.18) 0px 2px 4px inset; padding:20px; font-size:24px; font-family: consolas; text-align:center; display:fill; border-radius:15px; color:rgb(67, 66, 66)\"> <b> 8.2 Create main interrogation function</b></div>"
   ]
  },
  {
   "cell_type": "markdown",
   "id": "e0b908ff",
   "metadata": {
    "papermill": {
     "duration": 0.013834,
     "end_time": "2023-05-04T09:20:19.638735",
     "exception": false,
     "start_time": "2023-05-04T09:20:19.624901",
     "status": "completed"
    },
    "tags": []
   },
   "source": [
    "<p style=\"font-family: consolas; font-size: 16px;\">⚪ It's modified version of the original <a href=\"https://github.com/pharmapsychotic/clip-interrogator/blob/main/clip_interrogator/clip_interrogator.py#L213\"><strong>interrogate_classic</strong></a> method.</p>"
   ]
  },
  {
   "cell_type": "code",
   "execution_count": 29,
   "id": "05e52d3e",
   "metadata": {
    "execution": {
     "iopub.execute_input": "2023-05-04T09:20:19.667679Z",
     "iopub.status.busy": "2023-05-04T09:20:19.667367Z",
     "iopub.status.idle": "2023-05-04T09:20:19.674400Z",
     "shell.execute_reply": "2023-05-04T09:20:19.673349Z"
    },
    "papermill": {
     "duration": 0.024221,
     "end_time": "2023-05-04T09:20:19.676719",
     "exception": false,
     "start_time": "2023-05-04T09:20:19.652498",
     "status": "completed"
    },
    "tags": []
   },
   "outputs": [],
   "source": [
    "def interrogate(image: Image) -> str:\n",
    "    caption = ci.generate_caption(image)\n",
    "    image_features = ci.image_to_features(image)\n",
    "    \n",
    "    medium = [ci.mediums.labels[i] for i in cos(image_features, mediums_features_array).topk(1).indices][0]\n",
    "    movement = [ci.movements.labels[i] for i in cos(image_features, movements_features_array).topk(1).indices][0]\n",
    "    flaves = \", \".join([ci.flavors.labels[i] for i in cos(image_features, flavors_features_array).topk(3).indices])\n",
    "\n",
    "    if caption.startswith(medium):\n",
    "        prompt = f\"{caption}, {movement}, {flaves}\"\n",
    "    else:\n",
    "        prompt = f\"{caption}, {medium}, {movement}, {flaves}\"\n",
    "\n",
    "    return clip_interrogator._truncate_to_fit(prompt, ci.tokenize)"
   ]
  },
  {
   "cell_type": "markdown",
   "id": "3c932fd6",
   "metadata": {
    "papermill": {
     "duration": 0.013508,
     "end_time": "2023-05-04T09:20:19.703976",
     "exception": false,
     "start_time": "2023-05-04T09:20:19.690468",
     "status": "completed"
    },
    "tags": []
   },
   "source": [
    "<a id=\"9\"></a>\n",
    "# <div style=\"box-shadow: rgba(0, 0, 0, 0.16) 0px 1px 4px inset, rgb(51, 51, 51) 0px 0px 0px 3px inset; padding:20px; font-size:32px; font-family: consolas; text-align:center; display:fill; border-radius:15px;  color:rgb(34, 34, 34);\"> <b> 9. Extract promt from images</b></div>"
   ]
  },
  {
   "cell_type": "code",
   "execution_count": 30,
   "id": "c3bbe308",
   "metadata": {
    "execution": {
     "iopub.execute_input": "2023-05-04T09:20:19.732800Z",
     "iopub.status.busy": "2023-05-04T09:20:19.732519Z",
     "iopub.status.idle": "2023-05-04T09:20:24.328571Z",
     "shell.execute_reply": "2023-05-04T09:20:24.327575Z"
    },
    "papermill": {
     "duration": 4.613853,
     "end_time": "2023-05-04T09:20:24.331700",
     "exception": false,
     "start_time": "2023-05-04T09:20:19.717847",
     "status": "completed"
    },
    "tags": []
   },
   "outputs": [],
   "source": [
    "prompts = []\n",
    "\n",
    "images_path = \"../input/stable-diffusion-image-to-prompts/images/\"\n",
    "for image_name in images:\n",
    "    img = Image.open(images_path + image_name).convert(\"RGB\")\n",
    "\n",
    "    generated = interrogate(img)\n",
    "    \n",
    "    prompts.append(generated)"
   ]
  },
  {
   "cell_type": "markdown",
   "id": "9a4f5b5b",
   "metadata": {
    "papermill": {
     "duration": 0.013572,
     "end_time": "2023-05-04T09:20:24.359524",
     "exception": false,
     "start_time": "2023-05-04T09:20:24.345952",
     "status": "completed"
    },
    "tags": []
   },
   "source": [
    "<a id=\"9.1\"></a>\n",
    "## <div style=\"box-shadow: rgba(0, 0, 0, 0.18) 0px 2px 4px inset; padding:20px; font-size:24px; font-family: consolas; text-align:center; display:fill; border-radius:15px; color:rgb(67, 66, 66)\"> <b> 9.1 Check the result</b></div>"
   ]
  },
  {
   "cell_type": "code",
   "execution_count": 31,
   "id": "abe50f36",
   "metadata": {
    "execution": {
     "iopub.execute_input": "2023-05-04T09:20:24.388303Z",
     "iopub.status.busy": "2023-05-04T09:20:24.388007Z",
     "iopub.status.idle": "2023-05-04T09:20:24.394586Z",
     "shell.execute_reply": "2023-05-04T09:20:24.393536Z"
    },
    "papermill": {
     "duration": 0.023431,
     "end_time": "2023-05-04T09:20:24.396831",
     "exception": false,
     "start_time": "2023-05-04T09:20:24.373400",
     "status": "completed"
    },
    "tags": []
   },
   "outputs": [],
   "source": [
    "def add_text_limiters(text: str) -> str:\n",
    "    return \" \".join([\n",
    "        word + \"\\n\" if i % 15 == 0 else word \n",
    "        for i, word in enumerate(text.split(\" \"), start=1)\n",
    "    ])\n",
    "\n",
    "def plot_image(image: np.ndarray, original_prompt: str, generated_prompt: str) -> None:\n",
    "    plt.figure(figsize=(10, 10))\n",
    "    plt.imshow(image)\n",
    "    plt.annotate(\n",
    "        \"Original prompt:\\n\" + add_text_limiters(original_prompt) + \"\\n\\nGenerated prompt:\\n\" + add_text_limiters(generated_prompt), \n",
    "        xy=(1.05, 0.5), xycoords='axes fraction', ha='left', va='center', \n",
    "        fontsize=16, rotation=0, color=\"#104a6e\"\n",
    "    )"
   ]
  },
  {
   "cell_type": "code",
   "execution_count": 32,
   "id": "cd721cc9",
   "metadata": {
    "execution": {
     "iopub.execute_input": "2023-05-04T09:20:24.429131Z",
     "iopub.status.busy": "2023-05-04T09:20:24.428716Z",
     "iopub.status.idle": "2023-05-04T09:20:24.435698Z",
     "shell.execute_reply": "2023-05-04T09:20:24.434244Z"
    },
    "papermill": {
     "duration": 0.03103,
     "end_time": "2023-05-04T09:20:24.441588",
     "exception": false,
     "start_time": "2023-05-04T09:20:24.410558",
     "status": "completed"
    },
    "tags": []
   },
   "outputs": [],
   "source": [
    "# DO NOT FORGET TO COMMENT OUT THIS CELL DURING SUBMISSION\n",
    "\n",
    "#original_prompts_df = pd.read_csv(\"/kaggle/input/stable-diffusion-image-to-prompts/prompts.csv\")\n",
    "\n",
    "#for image_name, prompt in zip(images, prompts):\n",
    "#    img = Image.open(images_path + image_name).convert(\"RGB\")\n",
    "#    original_prompt = original_prompts_df[\n",
    "#        original_prompts_df.imgId == image_name.split(\".\")[0]\n",
    "#    ].prompt.iloc[0]\n",
    "#    plot_image(img, original_prompt, prompt)"
   ]
  },
  {
   "cell_type": "markdown",
   "id": "e006834f",
   "metadata": {
    "papermill": {
     "duration": 0.030312,
     "end_time": "2023-05-04T09:20:24.494224",
     "exception": false,
     "start_time": "2023-05-04T09:20:24.463912",
     "status": "completed"
    },
    "tags": []
   },
   "source": [
    "<a id=\"10\"></a>\n",
    "# <div style=\"box-shadow: rgba(0, 0, 0, 0.16) 0px 1px 4px inset, rgb(51, 51, 51) 0px 0px 0px 3px inset; padding:20px; font-size:32px; font-family: consolas; text-align:center; display:fill; border-radius:15px;  color:rgb(34, 34, 34);\"> <b> 10. Create a sample submission with a constant prompt prediction</b></div>"
   ]
  },
  {
   "cell_type": "markdown",
   "id": "24156a87",
   "metadata": {
    "papermill": {
     "duration": 0.030119,
     "end_time": "2023-05-04T09:20:24.553823",
     "exception": false,
     "start_time": "2023-05-04T09:20:24.523704",
     "status": "completed"
    },
    "tags": []
   },
   "source": [
    "<a id=\"10.1\"></a>\n",
    "## <div style=\"box-shadow: rgba(0, 0, 0, 0.18) 0px 2px 4px inset; padding:20px; font-size:24px; font-family: consolas; text-align:center; display:fill; border-radius:15px; color:rgb(67, 66, 66)\"> <b> 10.1 Encode prompts</b></div>"
   ]
  },
  {
   "cell_type": "code",
   "execution_count": 33,
   "id": "245466bb",
   "metadata": {
    "execution": {
     "iopub.execute_input": "2023-05-04T09:20:24.637290Z",
     "iopub.status.busy": "2023-05-04T09:20:24.636888Z",
     "iopub.status.idle": "2023-05-04T09:20:24.759708Z",
     "shell.execute_reply": "2023-05-04T09:20:24.758878Z"
    },
    "papermill": {
     "duration": 0.167075,
     "end_time": "2023-05-04T09:20:24.763463",
     "exception": false,
     "start_time": "2023-05-04T09:20:24.596388",
     "status": "completed"
    },
    "tags": []
   },
   "outputs": [
    {
     "data": {
      "application/vnd.jupyter.widget-view+json": {
       "model_id": "022048372bd24b539d64004919486bbb",
       "version_major": 2,
       "version_minor": 0
      },
      "text/plain": [
       "Batches:   0%|          | 0/1 [00:00<?, ?it/s]"
      ]
     },
     "metadata": {},
     "output_type": "display_data"
    }
   ],
   "source": [
    "embeddings2 = st_model.encode(prompts).flatten()"
   ]
  },
  {
   "cell_type": "markdown",
   "id": "a21669df",
   "metadata": {
    "papermill": {
     "duration": 0.020478,
     "end_time": "2023-05-04T09:20:24.805476",
     "exception": false,
     "start_time": "2023-05-04T09:20:24.784998",
     "status": "completed"
    },
    "tags": []
   },
   "source": [
    "<a id=\"10\"></a>\n",
    "# <div style=\"box-shadow: rgba(0, 0, 0, 0.16) 0px 1px 4px inset, rgb(51, 51, 51) 0px 0px 0px 3px inset; padding:20px; font-size:32px; font-family: consolas; text-align:center; display:fill; border-radius:15px;  color:rgb(34, 34, 34);\"> <b> 11. Release GPU resource </b></div>"
   ]
  },
  {
   "cell_type": "code",
   "execution_count": 34,
   "id": "5066aa55",
   "metadata": {
    "execution": {
     "iopub.execute_input": "2023-05-04T09:20:24.849982Z",
     "iopub.status.busy": "2023-05-04T09:20:24.849354Z",
     "iopub.status.idle": "2023-05-04T09:20:25.194164Z",
     "shell.execute_reply": "2023-05-04T09:20:25.193197Z"
    },
    "papermill": {
     "duration": 0.370381,
     "end_time": "2023-05-04T09:20:25.196918",
     "exception": false,
     "start_time": "2023-05-04T09:20:24.826537",
     "status": "completed"
    },
    "tags": []
   },
   "outputs": [
    {
     "data": {
      "text/plain": [
       "39"
      ]
     },
     "execution_count": 34,
     "metadata": {},
     "output_type": "execute_result"
    }
   ],
   "source": [
    "del ci\n",
    "del blip_model, clip_model\n",
    "del st_model\n",
    "torch.cuda.empty_cache()\n",
    "gc.collect()"
   ]
  },
  {
   "cell_type": "markdown",
   "id": "72bf7b7d",
   "metadata": {
    "papermill": {
     "duration": 0.024918,
     "end_time": "2023-05-04T09:20:25.246095",
     "exception": false,
     "start_time": "2023-05-04T09:20:25.221177",
     "status": "completed"
    },
    "tags": []
   },
   "source": [
    "#### <a id=\"top\"></a>\n",
    "# <div style=\"box-shadow: rgb(60, 121, 245) 0px 0px 0px 3px inset, rgb(255, 255, 255) 10px -10px 0px -3px, rgb(31, 193, 27) 10px -10px, rgb(255, 255, 255) 20px -20px 0px -3px, rgb(255, 217, 19) 20px -20px, rgb(255, 255, 255) 30px -30px 0px -3px, rgb(255, 156, 85) 30px -30px, rgb(255, 255, 255) 40px -40px 0px -3px, rgb(255, 85, 85) 40px -40px; padding:20px; margin-right: 40px; font-size:30px; font-family: consolas; text-align:center; display:fill; border-radius:15px; color:rgb(60, 121, 245);\"><b> Ensemble(1) </b></div>\n"
   ]
  },
  {
   "cell_type": "code",
   "execution_count": 35,
   "id": "f81b4fae",
   "metadata": {
    "execution": {
     "iopub.execute_input": "2023-05-04T09:20:25.295984Z",
     "iopub.status.busy": "2023-05-04T09:20:25.295546Z",
     "iopub.status.idle": "2023-05-04T09:20:25.300639Z",
     "shell.execute_reply": "2023-05-04T09:20:25.299669Z"
    },
    "papermill": {
     "duration": 0.034399,
     "end_time": "2023-05-04T09:20:25.305388",
     "exception": false,
     "start_time": "2023-05-04T09:20:25.270989",
     "status": "completed"
    },
    "tags": []
   },
   "outputs": [],
   "source": [
    "embeddings12 = ratio_OFA * embeddings1 + ratio_CLIP_Interrogator * embeddings2"
   ]
  },
  {
   "cell_type": "code",
   "execution_count": null,
   "id": "63bb094a",
   "metadata": {
    "papermill": {
     "duration": 0.025568,
     "end_time": "2023-05-04T09:20:25.356745",
     "exception": false,
     "start_time": "2023-05-04T09:20:25.331177",
     "status": "completed"
    },
    "tags": []
   },
   "outputs": [],
   "source": []
  },
  {
   "cell_type": "code",
   "execution_count": 36,
   "id": "826d0b3a",
   "metadata": {
    "execution": {
     "iopub.execute_input": "2023-05-04T09:20:25.410552Z",
     "iopub.status.busy": "2023-05-04T09:20:25.410155Z",
     "iopub.status.idle": "2023-05-04T09:20:25.677688Z",
     "shell.execute_reply": "2023-05-04T09:20:25.676723Z"
    },
    "papermill": {
     "duration": 0.297843,
     "end_time": "2023-05-04T09:20:25.680455",
     "exception": false,
     "start_time": "2023-05-04T09:20:25.382612",
     "status": "completed"
    },
    "tags": []
   },
   "outputs": [
    {
     "data": {
      "text/plain": [
       "42"
      ]
     },
     "execution_count": 36,
     "metadata": {},
     "output_type": "execute_result"
    }
   ],
   "source": [
    "del embeddings1\n",
    "del embeddings2\n",
    "gc.collect()"
   ]
  },
  {
   "cell_type": "markdown",
   "id": "a5954a94",
   "metadata": {
    "papermill": {
     "duration": 0.024708,
     "end_time": "2023-05-04T09:20:25.730502",
     "exception": false,
     "start_time": "2023-05-04T09:20:25.705794",
     "status": "completed"
    },
    "tags": []
   },
   "source": [
    "#### <a id=\"top\"></a>\n",
    "# <div style=\"box-shadow: rgb(60, 121, 245) 0px 0px 0px 3px inset, rgb(255, 255, 255) 10px -10px 0px -3px, rgb(31, 193, 27) 10px -10px, rgb(255, 255, 255) 20px -20px 0px -3px, rgb(255, 217, 19) 20px -20px, rgb(255, 255, 255) 30px -30px 0px -3px, rgb(255, 156, 85) 30px -30px, rgb(255, 255, 255) 40px -40px 0px -3px, rgb(255, 85, 85) 40px -40px; padding:20px; margin-right: 40px; font-size:30px; font-family: consolas; text-align:center; display:fill; border-radius:15px; color:rgb(60, 121, 245);\"><b> ViT-B-16 </b></div>"
   ]
  },
  {
   "cell_type": "code",
   "execution_count": 37,
   "id": "c25a1826",
   "metadata": {
    "execution": {
     "iopub.execute_input": "2023-05-04T09:20:25.780683Z",
     "iopub.status.busy": "2023-05-04T09:20:25.780277Z",
     "iopub.status.idle": "2023-05-04T09:20:25.788290Z",
     "shell.execute_reply": "2023-05-04T09:20:25.787259Z"
    },
    "papermill": {
     "duration": 0.036389,
     "end_time": "2023-05-04T09:20:25.791107",
     "exception": false,
     "start_time": "2023-05-04T09:20:25.754718",
     "status": "completed"
    },
    "tags": []
   },
   "outputs": [],
   "source": [
    "import numpy as np\n",
    "import pandas as pd\n",
    "from pathlib import Path\n",
    "from PIL import Image\n",
    "from tqdm.notebook import tqdm\n",
    "import torch\n",
    "from torch.utils.data import Dataset, DataLoader\n",
    "from torchvision import transforms\n",
    "import timm\n",
    "from sklearn.preprocessing import normalize"
   ]
  },
  {
   "cell_type": "code",
   "execution_count": 38,
   "id": "513b51cc",
   "metadata": {
    "execution": {
     "iopub.execute_input": "2023-05-04T09:20:25.840247Z",
     "iopub.status.busy": "2023-05-04T09:20:25.839906Z",
     "iopub.status.idle": "2023-05-04T09:20:25.844723Z",
     "shell.execute_reply": "2023-05-04T09:20:25.843818Z"
    },
    "papermill": {
     "duration": 0.034227,
     "end_time": "2023-05-04T09:20:25.849205",
     "exception": false,
     "start_time": "2023-05-04T09:20:25.814978",
     "status": "completed"
    },
    "tags": []
   },
   "outputs": [],
   "source": [
    "class CFG:\n",
    "    model_path = '/kaggle/input/saved-vit-model/vit_large_patch16_384_1_64_0.0001_0.6564.pth'\n",
    "    model_name = 'vit_large_patch16_384'\n",
    "    input_size = 384\n",
    "    batch_size = 64"
   ]
  },
  {
   "cell_type": "code",
   "execution_count": 39,
   "id": "5c40b83b",
   "metadata": {
    "execution": {
     "iopub.execute_input": "2023-05-04T09:20:25.889674Z",
     "iopub.status.busy": "2023-05-04T09:20:25.889399Z",
     "iopub.status.idle": "2023-05-04T09:20:25.894918Z",
     "shell.execute_reply": "2023-05-04T09:20:25.893817Z"
    },
    "papermill": {
     "duration": 0.02351,
     "end_time": "2023-05-04T09:20:25.896995",
     "exception": false,
     "start_time": "2023-05-04T09:20:25.873485",
     "status": "completed"
    },
    "tags": []
   },
   "outputs": [],
   "source": [
    "class DiffusionTestDataset(Dataset):\n",
    "    def __init__(self, images, transform):\n",
    "        self.images = images\n",
    "        self.transform = transform\n",
    "    \n",
    "    def __len__(self):\n",
    "        return len(self.images)\n",
    "\n",
    "    def __getitem__(self, idx):\n",
    "        image = Image.open(self.images[idx])\n",
    "        image = self.transform(image)\n",
    "        return image"
   ]
  },
  {
   "cell_type": "code",
   "execution_count": 40,
   "id": "cc404db6",
   "metadata": {
    "execution": {
     "iopub.execute_input": "2023-05-04T09:20:25.927631Z",
     "iopub.status.busy": "2023-05-04T09:20:25.926756Z",
     "iopub.status.idle": "2023-05-04T09:20:25.937064Z",
     "shell.execute_reply": "2023-05-04T09:20:25.936085Z"
    },
    "papermill": {
     "duration": 0.027965,
     "end_time": "2023-05-04T09:20:25.939265",
     "exception": false,
     "start_time": "2023-05-04T09:20:25.911300",
     "status": "completed"
    },
    "tags": []
   },
   "outputs": [],
   "source": [
    "def predict(\n",
    "    images,\n",
    "    model_path,\n",
    "    model_name,\n",
    "    input_size,\n",
    "    batch_size\n",
    "):\n",
    "    device = torch.device('cuda' if torch.cuda.is_available() else 'cpu')\n",
    "    transform = transforms.Compose([\n",
    "        transforms.Resize(input_size),\n",
    "        transforms.RandomHorizontalFlip(p=0.5),\n",
    "#         transforms.RandomRotation(degrees=10),\n",
    "\n",
    "        # transforms.RandomVerticalFlip(p=0.5),\n",
    "        transforms.ToTensor(),\n",
    "        transforms.Normalize([0.485, 0.456, 0.406], [0.229, 0.224, 0.225]),\n",
    "    ])\n",
    "    dataset = DiffusionTestDataset(images, transform)\n",
    "    dataloader = DataLoader(\n",
    "        dataset=dataset,\n",
    "        shuffle=False,\n",
    "        batch_size=batch_size,\n",
    "        pin_memory=True,\n",
    "        num_workers=2,\n",
    "        drop_last=False\n",
    "    )\n",
    "\n",
    "    model = timm.create_model(\n",
    "        model_name,\n",
    "        pretrained=False,\n",
    "        num_classes=384\n",
    "    )\n",
    "    state_dict = torch.load(model_path)\n",
    "    model.load_state_dict(state_dict)\n",
    "    model.to(device)\n",
    "    model.eval()\n",
    "    \n",
    "    tta_preds = None\n",
    "    for _ in range(2):\n",
    "        preds = []\n",
    "        for X in tqdm(dataloader, leave=False):\n",
    "            X = X.to(device)\n",
    "\n",
    "            with torch.no_grad():\n",
    "                X_out = model(X).cpu().numpy()\n",
    "                # L2 normalize -- Start\n",
    "                X_out = X_out / ( np.abs(X_out).max(axis=-1, keepdims=True) + 0.0000001)  # To avoid to overflow at normalize()\n",
    "                X_out = normalize( X_out )\n",
    "                # L2 normalize -- End\n",
    "                preds.append(X_out)\n",
    "                \n",
    "        if tta_preds is None:\n",
    "            tta_preds = np.vstack(preds).flatten()\n",
    "        else:\n",
    "            tta_preds += np.vstack(preds).flatten()\n",
    "    \n",
    "    return tta_preds / 2"
   ]
  },
  {
   "cell_type": "code",
   "execution_count": 41,
   "id": "26fcd0d8",
   "metadata": {
    "execution": {
     "iopub.execute_input": "2023-05-04T09:20:25.968613Z",
     "iopub.status.busy": "2023-05-04T09:20:25.968360Z",
     "iopub.status.idle": "2023-05-04T09:20:44.103498Z",
     "shell.execute_reply": "2023-05-04T09:20:44.102400Z"
    },
    "papermill": {
     "duration": 18.152927,
     "end_time": "2023-05-04T09:20:44.106334",
     "exception": false,
     "start_time": "2023-05-04T09:20:25.953407",
     "status": "completed"
    },
    "tags": []
   },
   "outputs": [
    {
     "data": {
      "application/vnd.jupyter.widget-view+json": {
       "model_id": "944d3ff33f69435781a38b45e6acfc89",
       "version_major": 2,
       "version_minor": 0
      },
      "text/plain": [
       "  0%|          | 0/1 [00:00<?, ?it/s]"
      ]
     },
     "metadata": {},
     "output_type": "display_data"
    },
    {
     "data": {
      "application/vnd.jupyter.widget-view+json": {
       "model_id": "d0e08683933e4546a8d8683888f2c805",
       "version_major": 2,
       "version_minor": 0
      },
      "text/plain": [
       "  0%|          | 0/1 [00:00<?, ?it/s]"
      ]
     },
     "metadata": {},
     "output_type": "display_data"
    }
   ],
   "source": [
    "images = list(Path('/kaggle/input/stable-diffusion-image-to-prompts/images').glob('*.png'))\n",
    "imgIds = [i.stem for i in images]\n",
    "EMBEDDING_LENGTH = 384\n",
    "imgId_eId = [\n",
    "    '_'.join(map(str, i)) for i in zip(\n",
    "        np.repeat(imgIds, EMBEDDING_LENGTH),\n",
    "        np.tile(range(EMBEDDING_LENGTH), len(imgIds)))]\n",
    "\n",
    "embeddings3 = predict(images, CFG.model_path, CFG.model_name, CFG.input_size, CFG.batch_size)"
   ]
  },
  {
   "cell_type": "markdown",
   "id": "23eb651c",
   "metadata": {
    "papermill": {
     "duration": 0.014783,
     "end_time": "2023-05-04T09:20:44.136284",
     "exception": false,
     "start_time": "2023-05-04T09:20:44.121501",
     "status": "completed"
    },
    "tags": []
   },
   "source": [
    "#### <a id=\"top\"></a>\n",
    "# <div style=\"box-shadow: rgb(60, 121, 245) 0px 0px 0px 3px inset, rgb(255, 255, 255) 10px -10px 0px -3px, rgb(31, 193, 27) 10px -10px, rgb(255, 255, 255) 20px -20px 0px -3px, rgb(255, 217, 19) 20px -20px, rgb(255, 255, 255) 30px -30px 0px -3px, rgb(255, 156, 85) 30px -30px, rgb(255, 255, 255) 40px -40px 0px -3px, rgb(255, 85, 85) 40px -40px; padding:20px; margin-right: 40px; font-size:30px; font-family: consolas; text-align:center; display:fill; border-radius:15px; color:rgb(60, 121, 245);\"><b> Ensemble(2) </b></div>"
   ]
  },
  {
   "cell_type": "code",
   "execution_count": 42,
   "id": "e386e5fa",
   "metadata": {
    "execution": {
     "iopub.execute_input": "2023-05-04T09:20:44.167564Z",
     "iopub.status.busy": "2023-05-04T09:20:44.166558Z",
     "iopub.status.idle": "2023-05-04T09:20:44.171863Z",
     "shell.execute_reply": "2023-05-04T09:20:44.170933Z"
    },
    "papermill": {
     "duration": 0.023098,
     "end_time": "2023-05-04T09:20:44.173852",
     "exception": false,
     "start_time": "2023-05-04T09:20:44.150754",
     "status": "completed"
    },
    "tags": []
   },
   "outputs": [],
   "source": [
    "embeddings = embeddings12 + ratio_ViT_B_16 * embeddings3"
   ]
  },
  {
   "cell_type": "code",
   "execution_count": 43,
   "id": "aa0a624b",
   "metadata": {
    "execution": {
     "iopub.execute_input": "2023-05-04T09:20:44.204114Z",
     "iopub.status.busy": "2023-05-04T09:20:44.203840Z",
     "iopub.status.idle": "2023-05-04T09:20:44.213135Z",
     "shell.execute_reply": "2023-05-04T09:20:44.212292Z"
    },
    "papermill": {
     "duration": 0.026665,
     "end_time": "2023-05-04T09:20:44.215183",
     "exception": false,
     "start_time": "2023-05-04T09:20:44.188518",
     "status": "completed"
    },
    "tags": []
   },
   "outputs": [],
   "source": [
    "submission = pd.DataFrame(\n",
    "    index=imgId_eId,\n",
    "    data=embeddings,\n",
    "    columns=['val']\n",
    ").rename_axis('imgId_eId')"
   ]
  },
  {
   "cell_type": "code",
   "execution_count": 44,
   "id": "8ed324d4",
   "metadata": {
    "execution": {
     "iopub.execute_input": "2023-05-04T09:20:44.245042Z",
     "iopub.status.busy": "2023-05-04T09:20:44.244743Z",
     "iopub.status.idle": "2023-05-04T09:20:44.257353Z",
     "shell.execute_reply": "2023-05-04T09:20:44.256524Z"
    },
    "papermill": {
     "duration": 0.030041,
     "end_time": "2023-05-04T09:20:44.259436",
     "exception": false,
     "start_time": "2023-05-04T09:20:44.229395",
     "status": "completed"
    },
    "tags": []
   },
   "outputs": [],
   "source": [
    "submission.to_csv('submission.csv')"
   ]
  }
 ],
 "metadata": {
  "kernelspec": {
   "display_name": "Python 3",
   "language": "python",
   "name": "python3"
  },
  "language_info": {
   "codemirror_mode": {
    "name": "ipython",
    "version": 3
   },
   "file_extension": ".py",
   "mimetype": "text/x-python",
   "name": "python",
   "nbconvert_exporter": "python",
   "pygments_lexer": "ipython3",
   "version": "3.7.12"
  },
  "papermill": {
   "default_parameters": {},
   "duration": 253.402276,
   "end_time": "2023-05-04T09:20:47.513595",
   "environment_variables": {},
   "exception": null,
   "input_path": "__notebook__.ipynb",
   "output_path": "__notebook__.ipynb",
   "parameters": {},
   "start_time": "2023-05-04T09:16:34.111319",
   "version": "2.3.4"
  },
  "widgets": {
   "application/vnd.jupyter.widget-state+json": {
    "state": {
     "022048372bd24b539d64004919486bbb": {
      "model_module": "@jupyter-widgets/controls",
      "model_module_version": "1.5.0",
      "model_name": "HBoxModel",
      "state": {
       "_dom_classes": [],
       "_model_module": "@jupyter-widgets/controls",
       "_model_module_version": "1.5.0",
       "_model_name": "HBoxModel",
       "_view_count": null,
       "_view_module": "@jupyter-widgets/controls",
       "_view_module_version": "1.5.0",
       "_view_name": "HBoxView",
       "box_style": "",
       "children": [
        "IPY_MODEL_f5d091cbf6e041cebca82bb3be419597",
        "IPY_MODEL_da80256244d04a95ab920ca51211baf2",
        "IPY_MODEL_89513c42783344dea671e043e40f56d3"
       ],
       "layout": "IPY_MODEL_11dcb297ad04489eae143bc4cc2a9a7a"
      }
     },
     "0e58d77849b24cac8ad6a63e1ce3eb16": {
      "model_module": "@jupyter-widgets/controls",
      "model_module_version": "1.5.0",
      "model_name": "DescriptionStyleModel",
      "state": {
       "_model_module": "@jupyter-widgets/controls",
       "_model_module_version": "1.5.0",
       "_model_name": "DescriptionStyleModel",
       "_view_count": null,
       "_view_module": "@jupyter-widgets/base",
       "_view_module_version": "1.2.0",
       "_view_name": "StyleView",
       "description_width": ""
      }
     },
     "11dcb297ad04489eae143bc4cc2a9a7a": {
      "model_module": "@jupyter-widgets/base",
      "model_module_version": "1.2.0",
      "model_name": "LayoutModel",
      "state": {
       "_model_module": "@jupyter-widgets/base",
       "_model_module_version": "1.2.0",
       "_model_name": "LayoutModel",
       "_view_count": null,
       "_view_module": "@jupyter-widgets/base",
       "_view_module_version": "1.2.0",
       "_view_name": "LayoutView",
       "align_content": null,
       "align_items": null,
       "align_self": null,
       "border": null,
       "bottom": null,
       "display": null,
       "flex": null,
       "flex_flow": null,
       "grid_area": null,
       "grid_auto_columns": null,
       "grid_auto_flow": null,
       "grid_auto_rows": null,
       "grid_column": null,
       "grid_gap": null,
       "grid_row": null,
       "grid_template_areas": null,
       "grid_template_columns": null,
       "grid_template_rows": null,
       "height": null,
       "justify_content": null,
       "justify_items": null,
       "left": null,
       "margin": null,
       "max_height": null,
       "max_width": null,
       "min_height": null,
       "min_width": null,
       "object_fit": null,
       "object_position": null,
       "order": null,
       "overflow": null,
       "overflow_x": null,
       "overflow_y": null,
       "padding": null,
       "right": null,
       "top": null,
       "visibility": null,
       "width": null
      }
     },
     "210530b7feb04b89996dc7f648b748ba": {
      "model_module": "@jupyter-widgets/controls",
      "model_module_version": "1.5.0",
      "model_name": "DescriptionStyleModel",
      "state": {
       "_model_module": "@jupyter-widgets/controls",
       "_model_module_version": "1.5.0",
       "_model_name": "DescriptionStyleModel",
       "_view_count": null,
       "_view_module": "@jupyter-widgets/base",
       "_view_module_version": "1.2.0",
       "_view_name": "StyleView",
       "description_width": ""
      }
     },
     "2c23984a74fa42adae9dcbc36cae5d1c": {
      "model_module": "@jupyter-widgets/controls",
      "model_module_version": "1.5.0",
      "model_name": "HTMLModel",
      "state": {
       "_dom_classes": [],
       "_model_module": "@jupyter-widgets/controls",
       "_model_module_version": "1.5.0",
       "_model_name": "HTMLModel",
       "_view_count": null,
       "_view_module": "@jupyter-widgets/controls",
       "_view_module_version": "1.5.0",
       "_view_name": "HTMLView",
       "description": "",
       "description_tooltip": null,
       "layout": "IPY_MODEL_952a1059dea344bb92dc0b47825d91dc",
       "placeholder": "​",
       "style": "IPY_MODEL_0e58d77849b24cac8ad6a63e1ce3eb16",
       "value": " 1/1 [00:00&lt;00:00, 22.13it/s]"
      }
     },
     "353e7acb5e024346924d14cb99b29601": {
      "model_module": "@jupyter-widgets/base",
      "model_module_version": "1.2.0",
      "model_name": "LayoutModel",
      "state": {
       "_model_module": "@jupyter-widgets/base",
       "_model_module_version": "1.2.0",
       "_model_name": "LayoutModel",
       "_view_count": null,
       "_view_module": "@jupyter-widgets/base",
       "_view_module_version": "1.2.0",
       "_view_name": "LayoutView",
       "align_content": null,
       "align_items": null,
       "align_self": null,
       "border": null,
       "bottom": null,
       "display": null,
       "flex": null,
       "flex_flow": null,
       "grid_area": null,
       "grid_auto_columns": null,
       "grid_auto_flow": null,
       "grid_auto_rows": null,
       "grid_column": null,
       "grid_gap": null,
       "grid_row": null,
       "grid_template_areas": null,
       "grid_template_columns": null,
       "grid_template_rows": null,
       "height": null,
       "justify_content": null,
       "justify_items": null,
       "left": null,
       "margin": null,
       "max_height": null,
       "max_width": null,
       "min_height": null,
       "min_width": null,
       "object_fit": null,
       "object_position": null,
       "order": null,
       "overflow": null,
       "overflow_x": null,
       "overflow_y": null,
       "padding": null,
       "right": null,
       "top": null,
       "visibility": null,
       "width": null
      }
     },
     "361aa992164b45ad9534e458dd1f2fab": {
      "model_module": "@jupyter-widgets/controls",
      "model_module_version": "1.5.0",
      "model_name": "HTMLModel",
      "state": {
       "_dom_classes": [],
       "_model_module": "@jupyter-widgets/controls",
       "_model_module_version": "1.5.0",
       "_model_name": "HTMLModel",
       "_view_count": null,
       "_view_module": "@jupyter-widgets/controls",
       "_view_module_version": "1.5.0",
       "_view_name": "HTMLView",
       "description": "",
       "description_tooltip": null,
       "layout": "IPY_MODEL_4ccd8a7f097745fbad1345458ea11965",
       "placeholder": "​",
       "style": "IPY_MODEL_83fe29930c064298908e4829ecc5d045",
       "value": "100%"
      }
     },
     "40015279a2a749788676fd4c95e5e7ab": {
      "model_module": "@jupyter-widgets/controls",
      "model_module_version": "1.5.0",
      "model_name": "HTMLModel",
      "state": {
       "_dom_classes": [],
       "_model_module": "@jupyter-widgets/controls",
       "_model_module_version": "1.5.0",
       "_model_name": "HTMLModel",
       "_view_count": null,
       "_view_module": "@jupyter-widgets/controls",
       "_view_module_version": "1.5.0",
       "_view_name": "HTMLView",
       "description": "",
       "description_tooltip": null,
       "layout": "IPY_MODEL_48b3877010a3476497908942b021cc5c",
       "placeholder": "​",
       "style": "IPY_MODEL_210530b7feb04b89996dc7f648b748ba",
       "value": " 1/1 [00:00&lt;00:00,  1.30it/s]"
      }
     },
     "44174d24cee14fa38b9a67c00d748b42": {
      "model_module": "@jupyter-widgets/controls",
      "model_module_version": "1.5.0",
      "model_name": "ProgressStyleModel",
      "state": {
       "_model_module": "@jupyter-widgets/controls",
       "_model_module_version": "1.5.0",
       "_model_name": "ProgressStyleModel",
       "_view_count": null,
       "_view_module": "@jupyter-widgets/base",
       "_view_module_version": "1.2.0",
       "_view_name": "StyleView",
       "bar_color": null,
       "description_width": ""
      }
     },
     "48b3877010a3476497908942b021cc5c": {
      "model_module": "@jupyter-widgets/base",
      "model_module_version": "1.2.0",
      "model_name": "LayoutModel",
      "state": {
       "_model_module": "@jupyter-widgets/base",
       "_model_module_version": "1.2.0",
       "_model_name": "LayoutModel",
       "_view_count": null,
       "_view_module": "@jupyter-widgets/base",
       "_view_module_version": "1.2.0",
       "_view_name": "LayoutView",
       "align_content": null,
       "align_items": null,
       "align_self": null,
       "border": null,
       "bottom": null,
       "display": null,
       "flex": null,
       "flex_flow": null,
       "grid_area": null,
       "grid_auto_columns": null,
       "grid_auto_flow": null,
       "grid_auto_rows": null,
       "grid_column": null,
       "grid_gap": null,
       "grid_row": null,
       "grid_template_areas": null,
       "grid_template_columns": null,
       "grid_template_rows": null,
       "height": null,
       "justify_content": null,
       "justify_items": null,
       "left": null,
       "margin": null,
       "max_height": null,
       "max_width": null,
       "min_height": null,
       "min_width": null,
       "object_fit": null,
       "object_position": null,
       "order": null,
       "overflow": null,
       "overflow_x": null,
       "overflow_y": null,
       "padding": null,
       "right": null,
       "top": null,
       "visibility": null,
       "width": null
      }
     },
     "4ccd8a7f097745fbad1345458ea11965": {
      "model_module": "@jupyter-widgets/base",
      "model_module_version": "1.2.0",
      "model_name": "LayoutModel",
      "state": {
       "_model_module": "@jupyter-widgets/base",
       "_model_module_version": "1.2.0",
       "_model_name": "LayoutModel",
       "_view_count": null,
       "_view_module": "@jupyter-widgets/base",
       "_view_module_version": "1.2.0",
       "_view_name": "LayoutView",
       "align_content": null,
       "align_items": null,
       "align_self": null,
       "border": null,
       "bottom": null,
       "display": null,
       "flex": null,
       "flex_flow": null,
       "grid_area": null,
       "grid_auto_columns": null,
       "grid_auto_flow": null,
       "grid_auto_rows": null,
       "grid_column": null,
       "grid_gap": null,
       "grid_row": null,
       "grid_template_areas": null,
       "grid_template_columns": null,
       "grid_template_rows": null,
       "height": null,
       "justify_content": null,
       "justify_items": null,
       "left": null,
       "margin": null,
       "max_height": null,
       "max_width": null,
       "min_height": null,
       "min_width": null,
       "object_fit": null,
       "object_position": null,
       "order": null,
       "overflow": null,
       "overflow_x": null,
       "overflow_y": null,
       "padding": null,
       "right": null,
       "top": null,
       "visibility": null,
       "width": null
      }
     },
     "6a6ad11816224d51a9a2ae4a57c8d6f3": {
      "model_module": "@jupyter-widgets/controls",
      "model_module_version": "1.5.0",
      "model_name": "HTMLModel",
      "state": {
       "_dom_classes": [],
       "_model_module": "@jupyter-widgets/controls",
       "_model_module_version": "1.5.0",
       "_model_name": "HTMLModel",
       "_view_count": null,
       "_view_module": "@jupyter-widgets/controls",
       "_view_module_version": "1.5.0",
       "_view_name": "HTMLView",
       "description": "",
       "description_tooltip": null,
       "layout": "IPY_MODEL_d5c4a6ceb05e44d08b8f8f579fb329e4",
       "placeholder": "​",
       "style": "IPY_MODEL_b2a462e806f042478437f3741c7a956a",
       "value": "100%"
      }
     },
     "72608fbe43de4287b9d104c72a689023": {
      "model_module": "@jupyter-widgets/controls",
      "model_module_version": "1.5.0",
      "model_name": "DescriptionStyleModel",
      "state": {
       "_model_module": "@jupyter-widgets/controls",
       "_model_module_version": "1.5.0",
       "_model_name": "DescriptionStyleModel",
       "_view_count": null,
       "_view_module": "@jupyter-widgets/base",
       "_view_module_version": "1.2.0",
       "_view_name": "StyleView",
       "description_width": ""
      }
     },
     "8325d6ec94f04b0cbbc16a73b2318770": {
      "model_module": "@jupyter-widgets/controls",
      "model_module_version": "1.5.0",
      "model_name": "FloatProgressModel",
      "state": {
       "_dom_classes": [],
       "_model_module": "@jupyter-widgets/controls",
       "_model_module_version": "1.5.0",
       "_model_name": "FloatProgressModel",
       "_view_count": null,
       "_view_module": "@jupyter-widgets/controls",
       "_view_module_version": "1.5.0",
       "_view_name": "ProgressView",
       "bar_style": "",
       "description": "",
       "description_tooltip": null,
       "layout": "IPY_MODEL_a3be2842ab594ef5a0fc5cfc3e3d44cb",
       "max": 1.0,
       "min": 0.0,
       "orientation": "horizontal",
       "style": "IPY_MODEL_d0acb7bde64c4ecda930aa0b42e937c6",
       "value": 1.0
      }
     },
     "83fe29930c064298908e4829ecc5d045": {
      "model_module": "@jupyter-widgets/controls",
      "model_module_version": "1.5.0",
      "model_name": "DescriptionStyleModel",
      "state": {
       "_model_module": "@jupyter-widgets/controls",
       "_model_module_version": "1.5.0",
       "_model_name": "DescriptionStyleModel",
       "_view_count": null,
       "_view_module": "@jupyter-widgets/base",
       "_view_module_version": "1.2.0",
       "_view_name": "StyleView",
       "description_width": ""
      }
     },
     "86dca8f90c5244ccae854490cfdb0acf": {
      "model_module": "@jupyter-widgets/base",
      "model_module_version": "1.2.0",
      "model_name": "LayoutModel",
      "state": {
       "_model_module": "@jupyter-widgets/base",
       "_model_module_version": "1.2.0",
       "_model_name": "LayoutModel",
       "_view_count": null,
       "_view_module": "@jupyter-widgets/base",
       "_view_module_version": "1.2.0",
       "_view_name": "LayoutView",
       "align_content": null,
       "align_items": null,
       "align_self": null,
       "border": null,
       "bottom": null,
       "display": null,
       "flex": null,
       "flex_flow": null,
       "grid_area": null,
       "grid_auto_columns": null,
       "grid_auto_flow": null,
       "grid_auto_rows": null,
       "grid_column": null,
       "grid_gap": null,
       "grid_row": null,
       "grid_template_areas": null,
       "grid_template_columns": null,
       "grid_template_rows": null,
       "height": null,
       "justify_content": null,
       "justify_items": null,
       "left": null,
       "margin": null,
       "max_height": null,
       "max_width": null,
       "min_height": null,
       "min_width": null,
       "object_fit": null,
       "object_position": null,
       "order": null,
       "overflow": null,
       "overflow_x": null,
       "overflow_y": null,
       "padding": null,
       "right": null,
       "top": null,
       "visibility": null,
       "width": null
      }
     },
     "89513c42783344dea671e043e40f56d3": {
      "model_module": "@jupyter-widgets/controls",
      "model_module_version": "1.5.0",
      "model_name": "HTMLModel",
      "state": {
       "_dom_classes": [],
       "_model_module": "@jupyter-widgets/controls",
       "_model_module_version": "1.5.0",
       "_model_name": "HTMLModel",
       "_view_count": null,
       "_view_module": "@jupyter-widgets/controls",
       "_view_module_version": "1.5.0",
       "_view_name": "HTMLView",
       "description": "",
       "description_tooltip": null,
       "layout": "IPY_MODEL_353e7acb5e024346924d14cb99b29601",
       "placeholder": "​",
       "style": "IPY_MODEL_8e264365d2cb42a19fa54f37b7a09704",
       "value": " 1/1 [00:00&lt;00:00, 15.82it/s]"
      }
     },
     "8e264365d2cb42a19fa54f37b7a09704": {
      "model_module": "@jupyter-widgets/controls",
      "model_module_version": "1.5.0",
      "model_name": "DescriptionStyleModel",
      "state": {
       "_model_module": "@jupyter-widgets/controls",
       "_model_module_version": "1.5.0",
       "_model_name": "DescriptionStyleModel",
       "_view_count": null,
       "_view_module": "@jupyter-widgets/base",
       "_view_module_version": "1.2.0",
       "_view_name": "StyleView",
       "description_width": ""
      }
     },
     "92b6a9789ce5495a9bf3c81b075798b9": {
      "model_module": "@jupyter-widgets/base",
      "model_module_version": "1.2.0",
      "model_name": "LayoutModel",
      "state": {
       "_model_module": "@jupyter-widgets/base",
       "_model_module_version": "1.2.0",
       "_model_name": "LayoutModel",
       "_view_count": null,
       "_view_module": "@jupyter-widgets/base",
       "_view_module_version": "1.2.0",
       "_view_name": "LayoutView",
       "align_content": null,
       "align_items": null,
       "align_self": null,
       "border": null,
       "bottom": null,
       "display": null,
       "flex": null,
       "flex_flow": null,
       "grid_area": null,
       "grid_auto_columns": null,
       "grid_auto_flow": null,
       "grid_auto_rows": null,
       "grid_column": null,
       "grid_gap": null,
       "grid_row": null,
       "grid_template_areas": null,
       "grid_template_columns": null,
       "grid_template_rows": null,
       "height": null,
       "justify_content": null,
       "justify_items": null,
       "left": null,
       "margin": null,
       "max_height": null,
       "max_width": null,
       "min_height": null,
       "min_width": null,
       "object_fit": null,
       "object_position": null,
       "order": null,
       "overflow": null,
       "overflow_x": null,
       "overflow_y": null,
       "padding": null,
       "right": null,
       "top": null,
       "visibility": null,
       "width": null
      }
     },
     "944d3ff33f69435781a38b45e6acfc89": {
      "model_module": "@jupyter-widgets/controls",
      "model_module_version": "1.5.0",
      "model_name": "HBoxModel",
      "state": {
       "_dom_classes": [],
       "_model_module": "@jupyter-widgets/controls",
       "_model_module_version": "1.5.0",
       "_model_name": "HBoxModel",
       "_view_count": null,
       "_view_module": "@jupyter-widgets/controls",
       "_view_module_version": "1.5.0",
       "_view_name": "HBoxView",
       "box_style": "",
       "children": [
        "IPY_MODEL_6a6ad11816224d51a9a2ae4a57c8d6f3",
        "IPY_MODEL_8325d6ec94f04b0cbbc16a73b2318770",
        "IPY_MODEL_f39b6dd7c3d740f79b5046562de74951"
       ],
       "layout": "IPY_MODEL_d4382bdb2ace4e1eb04d39a35e9e3869"
      }
     },
     "952a1059dea344bb92dc0b47825d91dc": {
      "model_module": "@jupyter-widgets/base",
      "model_module_version": "1.2.0",
      "model_name": "LayoutModel",
      "state": {
       "_model_module": "@jupyter-widgets/base",
       "_model_module_version": "1.2.0",
       "_model_name": "LayoutModel",
       "_view_count": null,
       "_view_module": "@jupyter-widgets/base",
       "_view_module_version": "1.2.0",
       "_view_name": "LayoutView",
       "align_content": null,
       "align_items": null,
       "align_self": null,
       "border": null,
       "bottom": null,
       "display": null,
       "flex": null,
       "flex_flow": null,
       "grid_area": null,
       "grid_auto_columns": null,
       "grid_auto_flow": null,
       "grid_auto_rows": null,
       "grid_column": null,
       "grid_gap": null,
       "grid_row": null,
       "grid_template_areas": null,
       "grid_template_columns": null,
       "grid_template_rows": null,
       "height": null,
       "justify_content": null,
       "justify_items": null,
       "left": null,
       "margin": null,
       "max_height": null,
       "max_width": null,
       "min_height": null,
       "min_width": null,
       "object_fit": null,
       "object_position": null,
       "order": null,
       "overflow": null,
       "overflow_x": null,
       "overflow_y": null,
       "padding": null,
       "right": null,
       "top": null,
       "visibility": null,
       "width": null
      }
     },
     "954031b40a424b53a9181a1a39f2f82b": {
      "model_module": "@jupyter-widgets/controls",
      "model_module_version": "1.5.0",
      "model_name": "ProgressStyleModel",
      "state": {
       "_model_module": "@jupyter-widgets/controls",
       "_model_module_version": "1.5.0",
       "_model_name": "ProgressStyleModel",
       "_view_count": null,
       "_view_module": "@jupyter-widgets/base",
       "_view_module_version": "1.2.0",
       "_view_name": "StyleView",
       "bar_color": null,
       "description_width": ""
      }
     },
     "9ab1a4828d3f4bffad9f3eed3f13db35": {
      "model_module": "@jupyter-widgets/base",
      "model_module_version": "1.2.0",
      "model_name": "LayoutModel",
      "state": {
       "_model_module": "@jupyter-widgets/base",
       "_model_module_version": "1.2.0",
       "_model_name": "LayoutModel",
       "_view_count": null,
       "_view_module": "@jupyter-widgets/base",
       "_view_module_version": "1.2.0",
       "_view_name": "LayoutView",
       "align_content": null,
       "align_items": null,
       "align_self": null,
       "border": null,
       "bottom": null,
       "display": null,
       "flex": null,
       "flex_flow": null,
       "grid_area": null,
       "grid_auto_columns": null,
       "grid_auto_flow": null,
       "grid_auto_rows": null,
       "grid_column": null,
       "grid_gap": null,
       "grid_row": null,
       "grid_template_areas": null,
       "grid_template_columns": null,
       "grid_template_rows": null,
       "height": null,
       "justify_content": null,
       "justify_items": null,
       "left": null,
       "margin": null,
       "max_height": null,
       "max_width": null,
       "min_height": null,
       "min_width": null,
       "object_fit": null,
       "object_position": null,
       "order": null,
       "overflow": null,
       "overflow_x": null,
       "overflow_y": null,
       "padding": null,
       "right": null,
       "top": null,
       "visibility": null,
       "width": null
      }
     },
     "9c293907a20d4703a9292a3709ff47cb": {
      "model_module": "@jupyter-widgets/controls",
      "model_module_version": "1.5.0",
      "model_name": "FloatProgressModel",
      "state": {
       "_dom_classes": [],
       "_model_module": "@jupyter-widgets/controls",
       "_model_module_version": "1.5.0",
       "_model_name": "FloatProgressModel",
       "_view_count": null,
       "_view_module": "@jupyter-widgets/controls",
       "_view_module_version": "1.5.0",
       "_view_name": "ProgressView",
       "bar_style": "success",
       "description": "",
       "description_tooltip": null,
       "layout": "IPY_MODEL_d9e8f415245f41f0a83e9f343c156526",
       "max": 1.0,
       "min": 0.0,
       "orientation": "horizontal",
       "style": "IPY_MODEL_954031b40a424b53a9181a1a39f2f82b",
       "value": 1.0
      }
     },
     "a3be2842ab594ef5a0fc5cfc3e3d44cb": {
      "model_module": "@jupyter-widgets/base",
      "model_module_version": "1.2.0",
      "model_name": "LayoutModel",
      "state": {
       "_model_module": "@jupyter-widgets/base",
       "_model_module_version": "1.2.0",
       "_model_name": "LayoutModel",
       "_view_count": null,
       "_view_module": "@jupyter-widgets/base",
       "_view_module_version": "1.2.0",
       "_view_name": "LayoutView",
       "align_content": null,
       "align_items": null,
       "align_self": null,
       "border": null,
       "bottom": null,
       "display": null,
       "flex": null,
       "flex_flow": null,
       "grid_area": null,
       "grid_auto_columns": null,
       "grid_auto_flow": null,
       "grid_auto_rows": null,
       "grid_column": null,
       "grid_gap": null,
       "grid_row": null,
       "grid_template_areas": null,
       "grid_template_columns": null,
       "grid_template_rows": null,
       "height": null,
       "justify_content": null,
       "justify_items": null,
       "left": null,
       "margin": null,
       "max_height": null,
       "max_width": null,
       "min_height": null,
       "min_width": null,
       "object_fit": null,
       "object_position": null,
       "order": null,
       "overflow": null,
       "overflow_x": null,
       "overflow_y": null,
       "padding": null,
       "right": null,
       "top": null,
       "visibility": null,
       "width": null
      }
     },
     "aa5605e9c718492bb0bf27d0d40a53fa": {
      "model_module": "@jupyter-widgets/controls",
      "model_module_version": "1.5.0",
      "model_name": "DescriptionStyleModel",
      "state": {
       "_model_module": "@jupyter-widgets/controls",
       "_model_module_version": "1.5.0",
       "_model_name": "DescriptionStyleModel",
       "_view_count": null,
       "_view_module": "@jupyter-widgets/base",
       "_view_module_version": "1.2.0",
       "_view_name": "StyleView",
       "description_width": ""
      }
     },
     "b2a462e806f042478437f3741c7a956a": {
      "model_module": "@jupyter-widgets/controls",
      "model_module_version": "1.5.0",
      "model_name": "DescriptionStyleModel",
      "state": {
       "_model_module": "@jupyter-widgets/controls",
       "_model_module_version": "1.5.0",
       "_model_name": "DescriptionStyleModel",
       "_view_count": null,
       "_view_module": "@jupyter-widgets/base",
       "_view_module_version": "1.2.0",
       "_view_name": "StyleView",
       "description_width": ""
      }
     },
     "b88747f521a246fe9b4fb029477bc656": {
      "model_module": "@jupyter-widgets/base",
      "model_module_version": "1.2.0",
      "model_name": "LayoutModel",
      "state": {
       "_model_module": "@jupyter-widgets/base",
       "_model_module_version": "1.2.0",
       "_model_name": "LayoutModel",
       "_view_count": null,
       "_view_module": "@jupyter-widgets/base",
       "_view_module_version": "1.2.0",
       "_view_name": "LayoutView",
       "align_content": null,
       "align_items": null,
       "align_self": null,
       "border": null,
       "bottom": null,
       "display": null,
       "flex": null,
       "flex_flow": null,
       "grid_area": null,
       "grid_auto_columns": null,
       "grid_auto_flow": null,
       "grid_auto_rows": null,
       "grid_column": null,
       "grid_gap": null,
       "grid_row": null,
       "grid_template_areas": null,
       "grid_template_columns": null,
       "grid_template_rows": null,
       "height": null,
       "justify_content": null,
       "justify_items": null,
       "left": null,
       "margin": null,
       "max_height": null,
       "max_width": null,
       "min_height": null,
       "min_width": null,
       "object_fit": null,
       "object_position": null,
       "order": null,
       "overflow": null,
       "overflow_x": null,
       "overflow_y": null,
       "padding": null,
       "right": null,
       "top": null,
       "visibility": null,
       "width": null
      }
     },
     "c0da8365dd364959a44e485f29939721": {
      "model_module": "@jupyter-widgets/controls",
      "model_module_version": "1.5.0",
      "model_name": "HTMLModel",
      "state": {
       "_dom_classes": [],
       "_model_module": "@jupyter-widgets/controls",
       "_model_module_version": "1.5.0",
       "_model_name": "HTMLModel",
       "_view_count": null,
       "_view_module": "@jupyter-widgets/controls",
       "_view_module_version": "1.5.0",
       "_view_name": "HTMLView",
       "description": "",
       "description_tooltip": null,
       "layout": "IPY_MODEL_e3621a16a1bd4b6288f2591a8e311db6",
       "placeholder": "​",
       "style": "IPY_MODEL_dafd1ad348414e52a3215d7f256da675",
       "value": "Batches: 100%"
      }
     },
     "ce38cd062d934b44973a9025535994ad": {
      "model_module": "@jupyter-widgets/controls",
      "model_module_version": "1.5.0",
      "model_name": "HBoxModel",
      "state": {
       "_dom_classes": [],
       "_model_module": "@jupyter-widgets/controls",
       "_model_module_version": "1.5.0",
       "_model_name": "HBoxModel",
       "_view_count": null,
       "_view_module": "@jupyter-widgets/controls",
       "_view_module_version": "1.5.0",
       "_view_name": "HBoxView",
       "box_style": "",
       "children": [
        "IPY_MODEL_c0da8365dd364959a44e485f29939721",
        "IPY_MODEL_9c293907a20d4703a9292a3709ff47cb",
        "IPY_MODEL_2c23984a74fa42adae9dcbc36cae5d1c"
       ],
       "layout": "IPY_MODEL_9ab1a4828d3f4bffad9f3eed3f13db35"
      }
     },
     "d0acb7bde64c4ecda930aa0b42e937c6": {
      "model_module": "@jupyter-widgets/controls",
      "model_module_version": "1.5.0",
      "model_name": "ProgressStyleModel",
      "state": {
       "_model_module": "@jupyter-widgets/controls",
       "_model_module_version": "1.5.0",
       "_model_name": "ProgressStyleModel",
       "_view_count": null,
       "_view_module": "@jupyter-widgets/base",
       "_view_module_version": "1.2.0",
       "_view_name": "StyleView",
       "bar_color": null,
       "description_width": ""
      }
     },
     "d0e08683933e4546a8d8683888f2c805": {
      "model_module": "@jupyter-widgets/controls",
      "model_module_version": "1.5.0",
      "model_name": "HBoxModel",
      "state": {
       "_dom_classes": [],
       "_model_module": "@jupyter-widgets/controls",
       "_model_module_version": "1.5.0",
       "_model_name": "HBoxModel",
       "_view_count": null,
       "_view_module": "@jupyter-widgets/controls",
       "_view_module_version": "1.5.0",
       "_view_name": "HBoxView",
       "box_style": "",
       "children": [
        "IPY_MODEL_361aa992164b45ad9534e458dd1f2fab",
        "IPY_MODEL_d5c4d83928ca4cc399d5c0efdec83d86",
        "IPY_MODEL_40015279a2a749788676fd4c95e5e7ab"
       ],
       "layout": "IPY_MODEL_f35ceb28cef8417b9d1134a1ff7530b6"
      }
     },
     "d4382bdb2ace4e1eb04d39a35e9e3869": {
      "model_module": "@jupyter-widgets/base",
      "model_module_version": "1.2.0",
      "model_name": "LayoutModel",
      "state": {
       "_model_module": "@jupyter-widgets/base",
       "_model_module_version": "1.2.0",
       "_model_name": "LayoutModel",
       "_view_count": null,
       "_view_module": "@jupyter-widgets/base",
       "_view_module_version": "1.2.0",
       "_view_name": "LayoutView",
       "align_content": null,
       "align_items": null,
       "align_self": null,
       "border": null,
       "bottom": null,
       "display": null,
       "flex": null,
       "flex_flow": null,
       "grid_area": null,
       "grid_auto_columns": null,
       "grid_auto_flow": null,
       "grid_auto_rows": null,
       "grid_column": null,
       "grid_gap": null,
       "grid_row": null,
       "grid_template_areas": null,
       "grid_template_columns": null,
       "grid_template_rows": null,
       "height": null,
       "justify_content": null,
       "justify_items": null,
       "left": null,
       "margin": null,
       "max_height": null,
       "max_width": null,
       "min_height": null,
       "min_width": null,
       "object_fit": null,
       "object_position": null,
       "order": null,
       "overflow": null,
       "overflow_x": null,
       "overflow_y": null,
       "padding": null,
       "right": null,
       "top": null,
       "visibility": null,
       "width": null
      }
     },
     "d5c4a6ceb05e44d08b8f8f579fb329e4": {
      "model_module": "@jupyter-widgets/base",
      "model_module_version": "1.2.0",
      "model_name": "LayoutModel",
      "state": {
       "_model_module": "@jupyter-widgets/base",
       "_model_module_version": "1.2.0",
       "_model_name": "LayoutModel",
       "_view_count": null,
       "_view_module": "@jupyter-widgets/base",
       "_view_module_version": "1.2.0",
       "_view_name": "LayoutView",
       "align_content": null,
       "align_items": null,
       "align_self": null,
       "border": null,
       "bottom": null,
       "display": null,
       "flex": null,
       "flex_flow": null,
       "grid_area": null,
       "grid_auto_columns": null,
       "grid_auto_flow": null,
       "grid_auto_rows": null,
       "grid_column": null,
       "grid_gap": null,
       "grid_row": null,
       "grid_template_areas": null,
       "grid_template_columns": null,
       "grid_template_rows": null,
       "height": null,
       "justify_content": null,
       "justify_items": null,
       "left": null,
       "margin": null,
       "max_height": null,
       "max_width": null,
       "min_height": null,
       "min_width": null,
       "object_fit": null,
       "object_position": null,
       "order": null,
       "overflow": null,
       "overflow_x": null,
       "overflow_y": null,
       "padding": null,
       "right": null,
       "top": null,
       "visibility": null,
       "width": null
      }
     },
     "d5c4d83928ca4cc399d5c0efdec83d86": {
      "model_module": "@jupyter-widgets/controls",
      "model_module_version": "1.5.0",
      "model_name": "FloatProgressModel",
      "state": {
       "_dom_classes": [],
       "_model_module": "@jupyter-widgets/controls",
       "_model_module_version": "1.5.0",
       "_model_name": "FloatProgressModel",
       "_view_count": null,
       "_view_module": "@jupyter-widgets/controls",
       "_view_module_version": "1.5.0",
       "_view_name": "ProgressView",
       "bar_style": "",
       "description": "",
       "description_tooltip": null,
       "layout": "IPY_MODEL_92b6a9789ce5495a9bf3c81b075798b9",
       "max": 1.0,
       "min": 0.0,
       "orientation": "horizontal",
       "style": "IPY_MODEL_44174d24cee14fa38b9a67c00d748b42",
       "value": 1.0
      }
     },
     "d9e8f415245f41f0a83e9f343c156526": {
      "model_module": "@jupyter-widgets/base",
      "model_module_version": "1.2.0",
      "model_name": "LayoutModel",
      "state": {
       "_model_module": "@jupyter-widgets/base",
       "_model_module_version": "1.2.0",
       "_model_name": "LayoutModel",
       "_view_count": null,
       "_view_module": "@jupyter-widgets/base",
       "_view_module_version": "1.2.0",
       "_view_name": "LayoutView",
       "align_content": null,
       "align_items": null,
       "align_self": null,
       "border": null,
       "bottom": null,
       "display": null,
       "flex": null,
       "flex_flow": null,
       "grid_area": null,
       "grid_auto_columns": null,
       "grid_auto_flow": null,
       "grid_auto_rows": null,
       "grid_column": null,
       "grid_gap": null,
       "grid_row": null,
       "grid_template_areas": null,
       "grid_template_columns": null,
       "grid_template_rows": null,
       "height": null,
       "justify_content": null,
       "justify_items": null,
       "left": null,
       "margin": null,
       "max_height": null,
       "max_width": null,
       "min_height": null,
       "min_width": null,
       "object_fit": null,
       "object_position": null,
       "order": null,
       "overflow": null,
       "overflow_x": null,
       "overflow_y": null,
       "padding": null,
       "right": null,
       "top": null,
       "visibility": null,
       "width": null
      }
     },
     "da80256244d04a95ab920ca51211baf2": {
      "model_module": "@jupyter-widgets/controls",
      "model_module_version": "1.5.0",
      "model_name": "FloatProgressModel",
      "state": {
       "_dom_classes": [],
       "_model_module": "@jupyter-widgets/controls",
       "_model_module_version": "1.5.0",
       "_model_name": "FloatProgressModel",
       "_view_count": null,
       "_view_module": "@jupyter-widgets/controls",
       "_view_module_version": "1.5.0",
       "_view_name": "ProgressView",
       "bar_style": "success",
       "description": "",
       "description_tooltip": null,
       "layout": "IPY_MODEL_b88747f521a246fe9b4fb029477bc656",
       "max": 1.0,
       "min": 0.0,
       "orientation": "horizontal",
       "style": "IPY_MODEL_eb1c383b822149f7846038bffaef842d",
       "value": 1.0
      }
     },
     "dafd1ad348414e52a3215d7f256da675": {
      "model_module": "@jupyter-widgets/controls",
      "model_module_version": "1.5.0",
      "model_name": "DescriptionStyleModel",
      "state": {
       "_model_module": "@jupyter-widgets/controls",
       "_model_module_version": "1.5.0",
       "_model_name": "DescriptionStyleModel",
       "_view_count": null,
       "_view_module": "@jupyter-widgets/base",
       "_view_module_version": "1.2.0",
       "_view_name": "StyleView",
       "description_width": ""
      }
     },
     "e3621a16a1bd4b6288f2591a8e311db6": {
      "model_module": "@jupyter-widgets/base",
      "model_module_version": "1.2.0",
      "model_name": "LayoutModel",
      "state": {
       "_model_module": "@jupyter-widgets/base",
       "_model_module_version": "1.2.0",
       "_model_name": "LayoutModel",
       "_view_count": null,
       "_view_module": "@jupyter-widgets/base",
       "_view_module_version": "1.2.0",
       "_view_name": "LayoutView",
       "align_content": null,
       "align_items": null,
       "align_self": null,
       "border": null,
       "bottom": null,
       "display": null,
       "flex": null,
       "flex_flow": null,
       "grid_area": null,
       "grid_auto_columns": null,
       "grid_auto_flow": null,
       "grid_auto_rows": null,
       "grid_column": null,
       "grid_gap": null,
       "grid_row": null,
       "grid_template_areas": null,
       "grid_template_columns": null,
       "grid_template_rows": null,
       "height": null,
       "justify_content": null,
       "justify_items": null,
       "left": null,
       "margin": null,
       "max_height": null,
       "max_width": null,
       "min_height": null,
       "min_width": null,
       "object_fit": null,
       "object_position": null,
       "order": null,
       "overflow": null,
       "overflow_x": null,
       "overflow_y": null,
       "padding": null,
       "right": null,
       "top": null,
       "visibility": null,
       "width": null
      }
     },
     "eb1c383b822149f7846038bffaef842d": {
      "model_module": "@jupyter-widgets/controls",
      "model_module_version": "1.5.0",
      "model_name": "ProgressStyleModel",
      "state": {
       "_model_module": "@jupyter-widgets/controls",
       "_model_module_version": "1.5.0",
       "_model_name": "ProgressStyleModel",
       "_view_count": null,
       "_view_module": "@jupyter-widgets/base",
       "_view_module_version": "1.2.0",
       "_view_name": "StyleView",
       "bar_color": null,
       "description_width": ""
      }
     },
     "f35ceb28cef8417b9d1134a1ff7530b6": {
      "model_module": "@jupyter-widgets/base",
      "model_module_version": "1.2.0",
      "model_name": "LayoutModel",
      "state": {
       "_model_module": "@jupyter-widgets/base",
       "_model_module_version": "1.2.0",
       "_model_name": "LayoutModel",
       "_view_count": null,
       "_view_module": "@jupyter-widgets/base",
       "_view_module_version": "1.2.0",
       "_view_name": "LayoutView",
       "align_content": null,
       "align_items": null,
       "align_self": null,
       "border": null,
       "bottom": null,
       "display": null,
       "flex": null,
       "flex_flow": null,
       "grid_area": null,
       "grid_auto_columns": null,
       "grid_auto_flow": null,
       "grid_auto_rows": null,
       "grid_column": null,
       "grid_gap": null,
       "grid_row": null,
       "grid_template_areas": null,
       "grid_template_columns": null,
       "grid_template_rows": null,
       "height": null,
       "justify_content": null,
       "justify_items": null,
       "left": null,
       "margin": null,
       "max_height": null,
       "max_width": null,
       "min_height": null,
       "min_width": null,
       "object_fit": null,
       "object_position": null,
       "order": null,
       "overflow": null,
       "overflow_x": null,
       "overflow_y": null,
       "padding": null,
       "right": null,
       "top": null,
       "visibility": null,
       "width": null
      }
     },
     "f39b6dd7c3d740f79b5046562de74951": {
      "model_module": "@jupyter-widgets/controls",
      "model_module_version": "1.5.0",
      "model_name": "HTMLModel",
      "state": {
       "_dom_classes": [],
       "_model_module": "@jupyter-widgets/controls",
       "_model_module_version": "1.5.0",
       "_model_name": "HTMLModel",
       "_view_count": null,
       "_view_module": "@jupyter-widgets/controls",
       "_view_module_version": "1.5.0",
       "_view_name": "HTMLView",
       "description": "",
       "description_tooltip": null,
       "layout": "IPY_MODEL_86dca8f90c5244ccae854490cfdb0acf",
       "placeholder": "​",
       "style": "IPY_MODEL_72608fbe43de4287b9d104c72a689023",
       "value": " 1/1 [00:00&lt;00:00,  1.18it/s]"
      }
     },
     "f5d091cbf6e041cebca82bb3be419597": {
      "model_module": "@jupyter-widgets/controls",
      "model_module_version": "1.5.0",
      "model_name": "HTMLModel",
      "state": {
       "_dom_classes": [],
       "_model_module": "@jupyter-widgets/controls",
       "_model_module_version": "1.5.0",
       "_model_name": "HTMLModel",
       "_view_count": null,
       "_view_module": "@jupyter-widgets/controls",
       "_view_module_version": "1.5.0",
       "_view_name": "HTMLView",
       "description": "",
       "description_tooltip": null,
       "layout": "IPY_MODEL_fae9fa99f5bf4972abc30693e553facb",
       "placeholder": "​",
       "style": "IPY_MODEL_aa5605e9c718492bb0bf27d0d40a53fa",
       "value": "Batches: 100%"
      }
     },
     "fae9fa99f5bf4972abc30693e553facb": {
      "model_module": "@jupyter-widgets/base",
      "model_module_version": "1.2.0",
      "model_name": "LayoutModel",
      "state": {
       "_model_module": "@jupyter-widgets/base",
       "_model_module_version": "1.2.0",
       "_model_name": "LayoutModel",
       "_view_count": null,
       "_view_module": "@jupyter-widgets/base",
       "_view_module_version": "1.2.0",
       "_view_name": "LayoutView",
       "align_content": null,
       "align_items": null,
       "align_self": null,
       "border": null,
       "bottom": null,
       "display": null,
       "flex": null,
       "flex_flow": null,
       "grid_area": null,
       "grid_auto_columns": null,
       "grid_auto_flow": null,
       "grid_auto_rows": null,
       "grid_column": null,
       "grid_gap": null,
       "grid_row": null,
       "grid_template_areas": null,
       "grid_template_columns": null,
       "grid_template_rows": null,
       "height": null,
       "justify_content": null,
       "justify_items": null,
       "left": null,
       "margin": null,
       "max_height": null,
       "max_width": null,
       "min_height": null,
       "min_width": null,
       "object_fit": null,
       "object_position": null,
       "order": null,
       "overflow": null,
       "overflow_x": null,
       "overflow_y": null,
       "padding": null,
       "right": null,
       "top": null,
       "visibility": null,
       "width": null
      }
     }
    },
    "version_major": 2,
    "version_minor": 0
   }
  }
 },
 "nbformat": 4,
 "nbformat_minor": 5
}
